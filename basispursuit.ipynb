{
 "cells": [
  {
   "cell_type": "code",
   "execution_count": null,
   "metadata": {},
   "outputs": [],
   "source": [
    "import numpy as np\n",
    "from cvxopt import solvers, matrix"
   ]
  },
  {
   "cell_type": "markdown",
   "metadata": {},
   "source": [
    "We set the problem as follow : let $x$ be a vector "
   ]
  },
  {
   "cell_type": "markdown",
   "metadata": {},
   "source": [
    "We want to solve the following program :\n",
    "\n",
    "\n",
    "$$\\underset{c_1, c_2}{min}\\hspace{0.3cm} \\|c_1 \\|_1 + \\|c_2\\|_1$$\n",
    "$$s.t. x = \\left[\\Phi_1 \\middle|  \\Phi_2 \\right] \\begin{bmatrix}c_1 \\\\ c_2 \\end{bmatrix} $$\n",
    "\n",
    "The constraint can be rewritten \n",
    "\n",
    "We can rewrite it as a linear program\n",
    "\n",
    "$$min \\ \\mathbb{1}^T ( c_1^{+} + c_2^{+} + c_1^{-} + c_2^{-}) $$\n",
    "\n",
    "$$ s.t \\hspace{1cm} \n",
    "\\begin{aligned}\n",
    "\\begin{bmatrix} \\Phi_1 & \\Phi_2 & -\\Phi_1 & -\\Phi_2 \\end{bmatrix} \\begin{bmatrix} c_1\\\\ c_2 \\\\ c_1^{-} \\\\ c_2^{-} \\end{bmatrix} = x\\\\\n",
    "0 \\leq c_i^{+}, 0 \\leq c_i^{-}, i=1, 2\n",
    "\\end{aligned}$$"
   ]
  },
  {
   "cell_type": "code",
   "execution_count": 10,
   "metadata": {},
   "outputs": [],
   "source": [
    "class DataSep():\n",
    "    \n",
    "    def __init__(self, basis1, basis2, x):\n",
    "        self.basis1 = matrix(basis1) # ndarray of size n * d1\n",
    "        self.basis2 = matrix(basis2) # ndarray of size n * d2\n",
    "        self.x = matrix(x) # 1d array of size n \n",
    "        \n",
    "    def coherence(self):\n",
    "        \"\"\"\n",
    "        compute the mutual coherence between two systems\n",
    "        \"\"\"\n",
    "        return 0\n",
    "    def get_sparse_component(self):\n",
    "        \"\"\"\n",
    "        solve the basis pursuit program\n",
    "        \"\"\"\n",
    "        A = matrix(np.hstack((self.basis1, self.basis2, -self.basis1, -self.basis2)).T)\n",
    "        b = self.x\n",
    "        dim = A.shape[0]\n",
    "        \n",
    "        c = matrix( [1] * dim )\n",
    "        G = -matrix(np.eye(dim))\n",
    "        h = matrix([0] * dim)\n",
    "        sol = cvxopt.solvers.lp(c, G, h, A, b)\n",
    "        \n",
    "        return sol\n",
    "    \n",
    "    "
   ]
  },
  {
   "cell_type": "code",
   "execution_count": 6,
   "metadata": {},
   "outputs": [],
   "source": [
    "# to complete\n",
    "basis1 = None\n",
    "basis2 = None\n",
    "data_sep = DataSep(basis1, basis2, x)"
   ]
  }
 ],
 "metadata": {
  "kernelspec": {
   "display_name": "Python 3",
   "language": "python",
   "name": "python3"
  },
  "language_info": {
   "codemirror_mode": {
    "name": "ipython",
    "version": 3
   },
   "file_extension": ".py",
   "mimetype": "text/x-python",
   "name": "python",
   "nbconvert_exporter": "python",
   "pygments_lexer": "ipython3",
   "version": "3.7.4"
  }
 },
 "nbformat": 4,
 "nbformat_minor": 4
}
