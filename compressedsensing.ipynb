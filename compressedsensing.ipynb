{
 "cells": [
  {
   "cell_type": "markdown",
   "metadata": {},
   "source": [
    "# Data separation\n",
    "\n",
    "## Compressed sensing \n",
    "\n",
    "Mohamed BOUSSENA and Ngoc-Tam Le"
   ]
  },
  {
   "cell_type": "markdown",
   "metadata": {},
   "source": [
    "This project is based on the following article : \n",
    "Data Separation by Sparse Representations, Gitta Kutyniok, 2011\n",
    "\n",
    "https://arxiv.org/pdf/1102.4527.pdf"
   ]
  },
  {
   "cell_type": "markdown",
   "metadata": {},
   "source": [
    "## Theoretical results\n",
    "___"
   ]
  },
  {
   "cell_type": "markdown",
   "metadata": {},
   "source": [
    "The data separation problem is set as follow : Given a vector $x \\in \\mathcal{H}$ (where $\\mathcal{H}$ is assumed to be a Hilbert space) such that $x = x_1 + x_2$, we would like to extract the two components $x_1$ and $x_2$. A general idea underlying data separation is to choose two basis representation $\\Phi_1$ and $\\Phi_2$ such that $x_1$ and $x_2$ can be represented in a sparse way in one of the two basis basis. Precisely, we would like to choose the basis such that $x_1$ is sparse in $\\Phi_1$ and not $\\Phi_2$, and vice versa. "
   ]
  },
  {
   "cell_type": "markdown",
   "metadata": {},
   "source": [
    "__Definition__ (mutual coherence) : Given a frame $\\Phi$ on a Hilbert space $\\mathcal{H}$, we define the mutual coherence for $\\Phi$ by :\n",
    "\n",
    "\\begin{equation*}\n",
    "    \\mu(\\Phi) = \\underset{i,j \\in I, i \\neq j}{max}  \\left| \\langle \\phi_i, \\phi_j \\rangle \\right|\n",
    "\\end{equation*}\n",
    "___"
   ]
  },
  {
   "cell_type": "markdown",
   "metadata": {},
   "source": [
    "The following result gives us the guarantee that solving $l_1$ minimisation is equivalent to the $l_0$ minimisation."
   ]
  },
  {
   "cell_type": "markdown",
   "metadata": {},
   "source": [
    "__Theorem 1__: Let $\\Phi_1$ and $\\Phi_2$ two frames on a Hilbert space $\\mathcal{H}$, and $x \\in \\mathcal{H} \\backslash \\{0\\}$. Then if $x = \\left[\\Phi_1 \\middle| \\Phi_2 \\right] c$ and \n",
    "    \n",
    "$$\\|c \\|_0 \\leq \\frac{1}{2} \\left(1 + \\frac{1}{\\mu\\left(\\left[\\Phi_1 \\middle| \\Phi_2 \\right]\\right)} \\right)$$\n",
    "\n",
    "Then the solution of the $l_1$ minimization problem coincide with the solution of the $l_0$ minimization problem.\n",
    "___"
   ]
  },
  {
   "cell_type": "markdown",
   "metadata": {},
   "source": [
    "We want to solve the following program :\n",
    "\n",
    "\n",
    "$$\\underset{c_1, c_2}{min}\\hspace{0.3cm} \\|c_1 \\|_1 + \\|c_2\\|_1$$\n",
    "$$s.t. x = \\left[\\Phi_1 \\middle|  \\Phi_2 \\right] \\begin{bmatrix}c_1 \\\\ c_2 \\end{bmatrix} $$\n",
    "\n",
    "The constraint can be rewritten \n",
    "\n",
    "We can rewrite it as a linear program\n",
    "\n",
    "$$min \\ \\mathbb{1}^T ( c_1^{+} + c_2^{+} + c_1^{-} + c_2^{-}) $$\n",
    "\n",
    "$$ s.t \\hspace{1cm} \n",
    "\\begin{aligned}\n",
    "\\begin{bmatrix} \\Phi_1 & \\Phi_2 & -\\Phi_1 & -\\Phi_2 \\end{bmatrix} \\begin{bmatrix} c_1\\\\ c_2 \\\\ c_1^{-} \\\\ c_2^{-} \\end{bmatrix} = x\\\\\n",
    "0 \\leq c_i^{+}, 0 \\leq c_i^{-}, i=1, 2\n",
    "\\end{aligned}$$"
   ]
  },
  {
   "cell_type": "markdown",
   "metadata": {},
   "source": [
    "## Application"
   ]
  },
  {
   "cell_type": "code",
   "execution_count": 2,
   "metadata": {},
   "outputs": [],
   "source": [
    "# required libraries\n",
    "import cvxpy as cp\n",
    "import scipy.fftpack as spfft\n",
    "import numpy as np\n",
    "from PIL import Image\n",
    "import time\n",
    "import matplotlib.pyplot as plt"
   ]
  },
  {
   "cell_type": "code",
   "execution_count": 3,
   "metadata": {},
   "outputs": [],
   "source": [
    "# solve l1 minimization problem and compute mutual coherence\n",
    "class DataSep():\n",
    "    \n",
    "    def __init__(self, basis1, basis2, x):\n",
    "        self.basis1 = basis1 # ndarray of size n * d1\n",
    "        self.basis2 = basis2 # ndarray of size n * d2\n",
    "        self.x = x # 1d array of size n \n",
    "        \n",
    "    def coherence(self, phi):\n",
    "        \"\"\"\n",
    "        compute the mutual coherence on a frame phi\n",
    "        \"\"\"\n",
    "        mu = np.max( np.dot(phi.T, phi))\n",
    "        return mu\n",
    "    \n",
    "    def get_sparse_component(self):\n",
    "        \"\"\"\n",
    "        solve the basis pursuit program\n",
    "        \"\"\"\n",
    "        A = np.hstack((self.basis1, self.basis2, -self.basis1, -self.basis2))\n",
    "        b = self.x\n",
    "        dim = A.shape[1]\n",
    "        c = cp.Variable(dim)\n",
    "        constraints = [A*c==b, \n",
    "                      c>=0]\n",
    "        # define objective function\n",
    "        obj = cp.Minimize(cp.norm(c, 1))\n",
    "        prob = cp.Problem(obj, constraints)\n",
    "        sol = prob.solve(verbose=True)\n",
    "        \n",
    "        # separate the two components\n",
    "        b1_len, b2_len = basis1.shape[1], basis2.shape[1]\n",
    "        sparse_comp = np.array(c.value)\n",
    "        sparse_comp1 = sparse_comp[:b1_len] - sparse_comp[b1_len+b2_len: b2_len+2*b1_len]\n",
    "        sparse_comp2 = sparse_comp[b1_len: b1_len+b2_len] - sparse_comp[b2_len+2*b1_len: ]\n",
    "        \n",
    "        return sparse_comp1, sparse_comp2"
   ]
  },
  {
   "cell_type": "markdown",
   "metadata": {},
   "source": [
    "### Sinus and spike separation\n",
    "\n",
    "We apply the method to impulse noise removal in 1-dimensional signal. An useful application of this problem is for instance audio declicking."
   ]
  },
  {
   "cell_type": "markdown",
   "metadata": {},
   "source": [
    "First, we need to build the frames $\\Phi_1$, $\\Phi_2$. We will use cosine and dirac basis, with the intuition that the principal source would be sparse in the cosine basis and the impulse noise would be sparse in the dirac basis.\n",
    "\n",
    "Python package doesn't provide the cosine basis matrix but we can retrieve it from the inverse cosine transform function. To build $\\Phi_1$ we use the inverse cosine transform, an apply it to the identity matrix. Let $x \\in \\mathbb{R}^n$. We have for all $x \\in \\mathbb{R}^n$, $DCT(x) = D_n x$ where $D_n = DCT(Id_n)$ DCT being computed along the first axis. If $x_1 = \\Phi_1 c_1$, then $\\Phi_1 = D_n^{-1}= D_n^T$.\n",
    "\n",
    "\n",
    "$\\Phi_2$ is just equal to the identity matrix."
   ]
  },
  {
   "cell_type": "code",
   "execution_count": 61,
   "metadata": {},
   "outputs": [],
   "source": [
    "# build phi1 phi2\n",
    "# number of sample and spikes\n",
    "n = 400\n",
    "basis1 = spfft.idct(np.identity(n), norm='ortho', axis=0)\n",
    "basis2 = np.eye(n)"
   ]
  },
  {
   "cell_type": "markdown",
   "metadata": {},
   "source": [
    "#### Test on simulated data "
   ]
  },
  {
   "cell_type": "code",
   "execution_count": 62,
   "metadata": {},
   "outputs": [
    {
     "data": {
      "text/plain": [
       "[<matplotlib.lines.Line2D at 0x7f2d147a2610>]"
      ]
     },
     "execution_count": 62,
     "metadata": {},
     "output_type": "execute_result"
    },
    {
     "data": {
      "image/png": "[encoded data removed]",
      "text/plain": [
       "<Figure size 432x288 with 1 Axes>"
      ]
     },
     "metadata": {
      "needs_background": "light"
     },
     "output_type": "display_data"
    }
   ],
   "source": [
    "#number of spike \n",
    "m = 40\n",
    "\n",
    "z = np.linspace(0, 100, n)\n",
    "x = np.sin(z)\n",
    "\n",
    "# spikes :\n",
    "amplitude = 1\n",
    "spike_index = np.random.choice(n, m, replace=False)\n",
    "spike = np.zeros(n)\n",
    "spike[spike_index] += amplitude * np.random.randn(m)\n",
    "\n",
    "x += spike\n",
    "plt.plot(z, x)"
   ]
  },
  {
   "cell_type": "code",
   "execution_count": 63,
   "metadata": {},
   "outputs": [],
   "source": [
    "# solve the l1 minimisation problem \n",
    "one_dim = DataSep(basis1, basis2, x)"
   ]
  },
  {
   "cell_type": "code",
   "execution_count": 64,
   "metadata": {},
   "outputs": [
    {
     "name": "stdout",
     "output_type": "stream",
     "text": [
      "\n",
      "ECOS 2.0.7 - (C) embotech GmbH, Zurich Switzerland, 2012-15. Web: www.embotech.com/ECOS\n",
      "\n",
      "It     pcost       dcost      gap   pres   dres    k/t    mu     step   sigma     IR    |   BT\n",
      " 0  +0.000e+00  -0.000e+00  +2e+04  1e+00  7e-01  1e+00  5e+00    ---    ---    1  1  - |  -  - \n",
      " 1  +7.179e+01  +7.353e+01  +2e+04  7e-01  4e-01  2e+00  4e+00  0.3385  5e-01   0  0  0 |  0  0\n",
      " 2  +6.903e+01  +7.149e+01  +1e+04  3e-01  1e-01  3e+00  2e+00  0.6421  3e-01   0  0  0 |  0  0\n",
      " 3  +7.593e+01  +7.704e+01  +5e+03  1e-01  5e-02  1e+00  9e-01  0.6044  1e-01   1  0  0 |  0  0\n",
      " 4  +7.848e+01  +7.882e+01  +2e+03  4e-02  2e-02  4e-01  4e-01  0.7053  1e-01   1  0  0 |  0  0\n",
      " 5  +7.974e+01  +7.985e+01  +6e+02  1e-02  5e-03  1e-01  1e-01  0.6932  7e-02   1  0  0 |  0  0\n",
      " 6  +8.021e+01  +8.027e+01  +3e+02  8e-03  3e-03  6e-02  7e-02  0.5126  1e-01   1  0  0 |  0  0\n",
      " 7  +8.053e+01  +8.055e+01  +2e+02  4e-03  1e-03  3e-02  3e-02  0.5662  1e-01   1  0  0 |  0  0\n",
      " 8  +8.064e+01  +8.065e+01  +7e+01  1e-03  6e-04  3e-03  1e-02  0.9262  4e-01   1  0  0 |  0  0\n",
      " 9  +8.077e+01  +8.077e+01  +2e+01  5e-04  2e-04  1e-03  4e-03  0.7297  7e-02   1  0  1 |  0  0\n",
      "10  +8.082e+01  +8.082e+01  +1e+01  2e-04  8e-05  5e-04  2e-03  0.5689  8e-02   1  1  1 |  0  0\n",
      "11  +8.084e+01  +8.084e+01  +4e+00  9e-05  3e-05  1e-04  8e-04  0.7656  2e-01   1  1  1 |  0  0\n",
      "12  +8.085e+01  +8.085e+01  +2e+00  4e-05  1e-05  6e-05  4e-04  0.6167  1e-01   1  1  1 |  0  0\n",
      "13  +8.086e+01  +8.086e+01  +5e-01  1e-05  4e-06  2e-05  1e-04  0.7598  8e-02   1  1  1 |  0  0\n",
      "14  +8.086e+01  +8.086e+01  +3e-01  6e-06  2e-06  9e-06  6e-05  0.5391  1e-01   1  1  1 |  0  0\n",
      "15  +8.086e+01  +8.086e+01  +1e-01  2e-06  9e-07  3e-06  2e-05  0.7274  2e-01   1  1  1 |  0  0\n",
      "16  +8.086e+01  +8.086e+01  +7e-02  2e-06  6e-07  2e-06  1e-05  0.4637  3e-01   1  1  1 |  0  0\n",
      "17  +8.086e+01  +8.086e+01  +3e-02  7e-07  2e-07  9e-07  7e-06  0.6427  1e-01   1  1  1 |  0  0\n",
      "18  +8.086e+01  +8.086e+01  +2e-02  4e-07  1e-07  4e-07  3e-06  0.5788  1e-01   2  1  1 |  0  0\n",
      "19  +8.086e+01  +8.086e+01  +9e-03  2e-07  7e-08  2e-07  2e-06  0.6284  3e-01   2  1  1 |  0  0\n",
      "20  +8.086e+01  +8.086e+01  +3e-03  7e-08  2e-08  7e-08  6e-07  0.9890  3e-01   2  1  1 |  0  0\n",
      "21  +8.086e+01  +8.086e+01  +8e-04  2e-08  6e-09  2e-08  2e-07  0.8133  1e-01   2  1  1 |  0  0\n",
      "22  +8.086e+01  +8.086e+01  +7e-04  2e-08  5e-09  2e-08  1e-07  0.4014  5e-01   2  2  2 |  0  0\n",
      "23  +8.086e+01  +8.086e+01  +3e-04  8e-09  3e-09  8e-09  7e-08  0.8407  4e-01   2  2  2 |  0  0\n",
      "24  +8.086e+01  +8.086e+01  +1e-04  3e-09  8e-10  3e-09  2e-08  0.7431  1e-01   2  2  2 |  0  0\n",
      "25  +8.086e+01  +8.086e+01  +7e-05  2e-09  5e-10  2e-09  1e-08  0.7161  4e-01   3  2  2 |  0  0\n",
      "26  +8.086e+01  +8.086e+01  +2e-05  6e-10  2e-10  6e-10  5e-09  0.6816  4e-02   3  2  2 |  0  0\n",
      "27  +8.086e+01  +8.086e+01  +7e-06  4e-10  5e-11  2e-10  1e-09  0.9890  3e-01   3  2  2 |  0  0\n",
      "28  +8.086e+01  +8.086e+01  +3e-06  3e-10  2e-11  7e-11  5e-10  0.9246  3e-01   3  2  2 |  0  0\n",
      "29  +8.086e+01  +8.086e+01  +3e-07  3e-10  8e-12  9e-12  7e-11  0.8986  3e-02   3  2  2 |  0  0\n",
      "\n",
      "OPTIMAL (within feastol=3.3e-10, reltol=4.2e-09, abstol=3.4e-07).\n",
      "Runtime: 14.939460 seconds.\n",
      "\n"
     ]
    }
   ],
   "source": [
    "sparse_comp1, sparse_comp2 = one_dim.get_sparse_component()"
   ]
  },
  {
   "cell_type": "code",
   "execution_count": 65,
   "metadata": {},
   "outputs": [],
   "source": [
    "x1 = np.dot(basis1, sparse_comp1) \n",
    "x2 = np.dot(basis2, sparse_comp2)"
   ]
  },
  {
   "cell_type": "code",
   "execution_count": 66,
   "metadata": {},
   "outputs": [
    {
     "data": {
      "text/plain": [
       "[<matplotlib.lines.Line2D at 0x7f2d146fffd0>]"
      ]
     },
     "execution_count": 66,
     "metadata": {},
     "output_type": "execute_result"
    },
    {
     "data": {
      "image/png": "[encoded data removed]",
      "text/plain": [
       "<Figure size 1080x144 with 3 Axes>"
      ]
     },
     "metadata": {
      "needs_background": "light"
     },
     "output_type": "display_data"
    }
   ],
   "source": [
    "\n",
    "plt.figure(figsize = (15, 2))\n",
    "plt.subplot(1,3,1)\n",
    "plt.plot(z, x)\n",
    "plt.subplot(1,3,2)\n",
    "plt.plot(z, x1)\n",
    "plt.subplot(1,3,3)\n",
    "plt.plot(z, x2)"
   ]
  },
  {
   "cell_type": "markdown",
   "metadata": {},
   "source": [
    "Due to the signal length, we observe some anomaly at the beginning. It's because the signal length doesn't match the period condition of the cosine transform. However, the sinusoid and the spikes seem to be separated properly.\n",
    "\n",
    "With these basis, the mutual coherence is equal to $\\sqrt{\\frac{2}{n}}$. Allowed sparsity can be calculated with the theorem 1."
   ]
  },
  {
   "cell_type": "code",
   "execution_count": 10,
   "metadata": {},
   "outputs": [
    {
     "name": "stdout",
     "output_type": "stream",
     "text": [
      "Allowed sparsity\n",
      "0.9999999999999988\n"
     ]
    }
   ],
   "source": [
    "print('Allowed sparsity')\n",
    "print( (1 + 1 / one_dim.coherence(np.hstack((basis1, basis2))) )/2)"
   ]
  },
  {
   "cell_type": "code",
   "execution_count": 136,
   "metadata": {},
   "outputs": [
    {
     "data": {
      "text/plain": [
       "10.0"
      ]
     },
     "execution_count": 136,
     "metadata": {},
     "output_type": "execute_result"
    }
   ],
   "source": [
    "20/2"
   ]
  },
  {
   "cell_type": "code",
   "execution_count": 137,
   "metadata": {},
   "outputs": [
    {
     "data": {
      "text/plain": [
       "1.0000000000000024"
      ]
     },
     "execution_count": 137,
     "metadata": {},
     "output_type": "execute_result"
    }
   ],
   "source": [
    "one_dim.coherence(np.hstack((basis1, basis2)))"
   ]
  },
  {
   "cell_type": "markdown",
   "metadata": {},
   "source": [
    "### Image reconstruction with Cosine and Dirac basis\n",
    "\n",
    "We would like to apply the method to reconstruct corrupted image. We make the assumption that given a image vector $x$, $x = x_1 + x_2$ such that $x_1$ represent the entire image, and $x_2$ is a term of noise that is sparse in the Dirac basis. "
   ]
  },
  {
   "cell_type": "code",
   "execution_count": 15,
   "metadata": {},
   "outputs": [
    {
     "data": {
      "text/plain": [
       "<matplotlib.image.AxesImage at 0x7f2d15ead710>"
      ]
     },
     "execution_count": 15,
     "metadata": {},
     "output_type": "execute_result"
    },
    {
     "data": {
      "image/png": "[encoded data removed]",
      "text/plain": [
       "<Figure size 360x360 with 1 Axes>"
      ]
     },
     "metadata": {
      "needs_background": "light"
     },
     "output_type": "display_data"
    }
   ],
   "source": [
    "# import image \n",
    "img = Image.open('joconde.jpeg').resize((15,20))\n",
    "\n",
    "plt.figure(figsize = (5,5))\n",
    "plt.imshow(img, cmap=plt.cm.gray)"
   ]
  },
  {
   "cell_type": "code",
   "execution_count": 27,
   "metadata": {},
   "outputs": [
    {
     "name": "stdout",
     "output_type": "stream",
     "text": [
      "Image shape:(20, 15)\n"
     ]
    }
   ],
   "source": [
    "# Get gray scale array\n",
    "img = np.array(img)\n",
    "gray =  0.2989 * np.array(img)[:, :, 0] + 0.5870 * np.array(img)[:, :, 1] + 0.1140 * np.array(img)[: , :, 2]\n",
    "print('Image shape:'+ str(gray.shape))\n",
    "\n",
    "# Erase some samples \n",
    "n = gray.shape[0]\n",
    "m = gray.shape[1]\n",
    "index = np.arange(n*m)\n",
    "np.random.shuffle(index)\n",
    "erase = index[:n*m // 10]\n",
    "gray = gray.flatten()\n",
    "gray[erase] = 0\n",
    "gray = gray.reshape(n, m)"
   ]
  },
  {
   "cell_type": "code",
   "execution_count": 28,
   "metadata": {},
   "outputs": [
    {
     "data": {
      "text/plain": [
       "<matplotlib.image.AxesImage at 0x7f2d150d8710>"
      ]
     },
     "execution_count": 28,
     "metadata": {},
     "output_type": "execute_result"
    },
    {
     "data": {
      "image/png": "[encoded data removed]",
      "text/plain": [
       "<Figure size 432x288 with 1 Axes>"
      ]
     },
     "metadata": {
      "needs_background": "light"
     },
     "output_type": "display_data"
    }
   ],
   "source": [
    "plt.imshow(gray, cmap=plt.cm.gray)"
   ]
  },
  {
   "cell_type": "markdown",
   "metadata": {},
   "source": [
    "#### Build Cosine and Dirac frames\n",
    "For the 2-dimensional problem, We build $\\Phi_1$ and $\\Phi_2$ Parseval frames, here corresponding to cosine and dirac basis."
   ]
  },
  {
   "cell_type": "markdown",
   "metadata": {},
   "source": [
    "We define the operator vec such that for $X \\in \\mathbb{R}^{n \\times m}$, $vec(X)$ is the vector obtained by stacking the columns of $x$. \n",
    "\n",
    "Let $X \\in \\mathbb{R^{n \\times m}}$. The 2-dimensional cosine transform is computed  from the 1-dimensional cosine transform applied to the row and then, to the columns. We denote $DCT_d$ the d-dimensional discrete transform :\n",
    "\n",
    "\\begin{align*}\n",
    "DCT_2(X) &= DCT_1(DCT_1(X)^T))^T \\\\\n",
    "         &= (D_n(D_m X)^T)^T \\\\\n",
    "         &= D_mXD_n^T\n",
    "\\end{align*}\n",
    "Where $DCT_1$ is computed along the first axis and $D_n = DCT_1(Id_n), D_m = DCT_1(Id_m)$.\n",
    "\n",
    "\n",
    "If $X$ is decomposed as $X = X_1 + X_2$, the first component is written $x_1 = vec(X_1) = \\Phi_1 c_1$. We use a basic property of the operator $vec$ linked to the Kronecker product, that is : $vec(AXB) = (B^T \\otimes A) vec(X) $ to get :\n",
    "\n",
    "$$x_1 = vect(D_m^{-1}C_1(D_n^{-1})^T) = (D_n^{-1} \\otimes D_m^{-1}) c_1$$\n",
    "\n",
    "We take $\\Phi_1 = (D_n^{-1} \\otimes D_m^{-1}) = (D_n^{T} \\otimes D_m^{T}) $.\n",
    "\n",
    "\n",
    "To get $\\Phi_2$, we just stack the flattened matrices of canonical base in $\\mathbb{R}^{n \\times m}$, so that $\\Phi_2 = Id_{nm}$. "
   ]
  },
  {
   "cell_type": "markdown",
   "metadata": {},
   "source": [
    "It appears that this method is not really scalable due to the kronecker product complexity."
   ]
  },
  {
   "cell_type": "code",
   "execution_count": 29,
   "metadata": {},
   "outputs": [],
   "source": [
    "# image dimensions\n",
    "n, m = gray.shape\n",
    "# vec operation\n",
    "x = (gray.T).flatten()\n",
    "\n",
    "# define the two frames\n",
    "basis1 = np.kron(\n",
    "    spfft.idct(np.identity(n), norm='ortho', axis=0),\n",
    "    spfft.idct(np.identity(m), norm='ortho', axis=0)\n",
    "    )\n",
    "basis2 = np.eye(n*m)\n",
    "\n",
    "two_dim = DataSep(basis1, basis2, x)"
   ]
  },
  {
   "cell_type": "code",
   "execution_count": 30,
   "metadata": {},
   "outputs": [
    {
     "name": "stdout",
     "output_type": "stream",
     "text": [
      "\n",
      "ECOS 2.0.7 - (C) embotech GmbH, Zurich Switzerland, 2012-15. Web: www.embotech.com/ECOS\n",
      "\n",
      "It     pcost       dcost      gap   pres   dres    k/t    mu     step   sigma     IR    |   BT\n",
      " 0  +0.000e+00  -0.000e+00  +1e+06  1e+00  7e-01  1e+00  4e+02    ---    ---    1  1  - |  -  - \n",
      " 1  +1.852e+03  +1.935e+03  +1e+06  8e-01  6e-01  8e+01  4e+02  0.2799  8e-01   0  0  0 |  0  0\n",
      " 2  +7.765e+03  +8.027e+03  +9e+05  4e-01  2e-01  3e+02  2e+02  0.7598  6e-01   0  0  0 |  0  0\n",
      " 3  +8.104e+03  +8.235e+03  +3e+05  1e-01  5e-02  1e+02  8e+01  0.7086  8e-02   1  0  0 |  0  0\n",
      " 4  +9.367e+03  +9.413e+03  +1e+05  4e-02  2e-02  5e+01  3e+01  0.6603  8e-02   1  0  0 |  0  0\n",
      " 5  +9.983e+03  +1.000e+04  +5e+04  2e-02  6e-03  2e+01  1e+01  0.6358  7e-02   1  0  0 |  0  0\n",
      " 6  +1.022e+04  +1.023e+04  +2e+04  6e-03  2e-03  5e+00  5e+00  0.7419  2e-01   1  0  0 |  0  0\n",
      " 7  +1.033e+04  +1.033e+04  +8e+03  3e-03  9e-04  2e+00  2e+00  0.6795  1e-01   1  0  0 |  0  0\n",
      " 8  +1.038e+04  +1.038e+04  +3e+03  9e-04  3e-04  4e-01  8e-01  0.7478  1e-01   1  0  0 |  0  0\n",
      " 9  +1.040e+04  +1.040e+04  +1e+03  3e-04  1e-04  1e-01  3e-01  0.7410  2e-01   1  0  0 |  0  0\n",
      "10  +1.041e+04  +1.041e+04  +4e+02  1e-04  5e-05  4e-02  1e-01  0.7491  2e-01   1  0  0 |  0  0\n",
      "11  +1.041e+04  +1.041e+04  +2e+02  6e-05  2e-05  1e-02  5e-02  0.6517  2e-01   1  0  0 |  0  0\n",
      "12  +1.041e+04  +1.041e+04  +6e+01  2e-05  7e-06  3e-03  2e-02  0.8382  2e-01   1  0  0 |  0  0\n",
      "13  +1.041e+04  +1.041e+04  +2e+01  8e-06  3e-06  1e-03  7e-03  0.6842  1e-01   1  0  0 |  0  0\n",
      "14  +1.041e+04  +1.041e+04  +8e+00  3e-06  1e-06  4e-04  2e-03  0.7020  5e-02   1  0  0 |  0  0\n",
      "15  +1.041e+04  +1.041e+04  +2e+00  5e-07  2e-07  7e-05  4e-04  0.8628  7e-02   1  0  0 |  0  0\n",
      "16  +1.041e+04  +1.041e+04  +3e-02  9e-09  3e-09  1e-06  8e-06  0.9821  1e-04   1  0  0 |  0  0\n",
      "17  +1.041e+04  +1.041e+04  +3e-04  1e-10  4e-11  1e-08  9e-08  0.9890  1e-04   1  0  0 |  0  0\n",
      "18  +1.041e+04  +1.041e+04  +4e-06  1e-12  4e-13  2e-10  1e-09  0.9890  1e-04   1  0  0 |  0  0\n",
      "\n",
      "OPTIMAL (within feastol=1.1e-12, reltol=3.5e-10, abstol=3.6e-06).\n",
      "Runtime: 2.905808 seconds.\n",
      "\n"
     ]
    }
   ],
   "source": [
    "sparse_comp1, sparse_comp2 = two_dim.get_sparse_component()"
   ]
  },
  {
   "cell_type": "code",
   "execution_count": 39,
   "metadata": {},
   "outputs": [],
   "source": [
    "x1 = np.dot(basis1, sparse_comp1) \n",
    "x2 = np.dot(basis2, sparse_comp2)\n",
    "\n",
    "x1 = x1.reshape(m, n).T\n",
    "x2 = x2.reshape(m, n).T"
   ]
  },
  {
   "cell_type": "code",
   "execution_count": 40,
   "metadata": {},
   "outputs": [
    {
     "data": {
      "text/plain": [
       "<matplotlib.image.AxesImage at 0x7f2d14ead550>"
      ]
     },
     "execution_count": 40,
     "metadata": {},
     "output_type": "execute_result"
    },
    {
     "data": {
      "image/png": "[encoded data removed]",
      "text/plain": [
       "<Figure size 432x288 with 1 Axes>"
      ]
     },
     "metadata": {
      "needs_background": "light"
     },
     "output_type": "display_data"
    }
   ],
   "source": [
    "plt.imshow(x1, cmap=plt.cm.gray)"
   ]
  },
  {
   "cell_type": "code",
   "execution_count": null,
   "metadata": {},
   "outputs": [],
   "source": []
  }
 ],
 "metadata": {
  "kernelspec": {
   "display_name": "Python 3",
   "language": "python",
   "name": "python3"
  },
  "language_info": {
   "codemirror_mode": {
    "name": "ipython",
    "version": 3
   },
   "file_extension": ".py",
   "mimetype": "text/x-python",
   "name": "python",
   "nbconvert_exporter": "python",
   "pygments_lexer": "ipython3",
   "version": "3.7.4"
  }
 },
 "nbformat": 4,
 "nbformat_minor": 4
}
