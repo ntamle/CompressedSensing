{
 "cells": [
  {
   "cell_type": "markdown",
   "metadata": {},
   "source": [
    "# Data separation\n",
    "\n",
    "## Compressed sensing \n",
    "\n",
    "Mohamed BOUSSENA and Ngoc-Tam Le"
   ]
  },
  {
   "cell_type": "markdown",
   "metadata": {},
   "source": [
    "This project is based on the following article : \n",
    "Data Separation by Sparse Representations, Gitta Kutyniok, 2011\n",
    "\n",
    "https://arxiv.org/pdf/1102.4527.pdf"
   ]
  },
  {
   "cell_type": "code",
   "execution_count": null,
   "metadata": {},
   "outputs": [],
   "source": [
    "import numpy as np\n",
    "from cvxopt import solvers, matrix"
   ]
  },
  {
   "cell_type": "markdown",
   "metadata": {},
   "source": [
    "## Theoretical results\n",
    "___"
   ]
  },
  {
   "cell_type": "markdown",
   "metadata": {},
   "source": [
    "The data separation problem is set as follow : Given a vector $x \\in \\mathcal{H}$ (where $\\mathcal{H}$ is assumed to be a Hilbert space) such that $x = x_1 + x_2$, we would like to extract the two components $x_1$ and $x_2$. A general idea underlying data separation is to choose two basis representation $\\Phi_1$ and $\\Phi_2$ such that $x_1$ and $x_2$ can be represented in a sparse way in one of the two basis basis. Precisely, we would like to choose the basis such that $x_1$ is sparse in $\\Phi_1$ and not $\\Phi_2$, and vice versa. "
   ]
  },
  {
   "cell_type": "markdown",
   "metadata": {},
   "source": [
    "__Definition__ (mutual coherence) : Given a frame $\\Phi$ on a Hilbert space $\\mathcal{H}$, we define the mutual coherence for $\\Phi$ by :\n",
    "\n",
    "\\begin{equation*}\n",
    "    \\mu(\\Phi) = \\underset{i,j \\in I, i \\neq j}{max}  \\left| \\langle \\phi_i, \\phi_j \\rangle \\right|\n",
    "\\end{equation*}\n",
    "___"
   ]
  },
  {
   "cell_type": "markdown",
   "metadata": {},
   "source": [
    "The following result gives us the guarantee that solving $l_1$ minimisation is equivalent to the $l_0$ minimisation."
   ]
  },
  {
   "cell_type": "markdown",
   "metadata": {},
   "source": [
    "__Theorem__: Let $\\Phi_1$ and $\\Phi_2$ two frames on a Hilbert space $\\mathcal{H}$, and $x \\in \\mathcal{H} \\backslash \\{0\\}$. Then if $x = \\left[\\Phi_1 \\middle| \\Phi_2 \\right] c$ and \n",
    "    \n",
    "$$\\|c \\|_0 \\leq \\frac{1}{2} \\left(1 + \\frac{1}{\\mu\\left(\\left[\\Phi_1 \\middle| \\Phi_2 \\right]\\right)} \\right)$$\n",
    "\n",
    "Then the solution of the $l_1$ minimization problem coincide with the solution of the $l_0$ minimization problem.\n",
    "___"
   ]
  },
  {
   "cell_type": "markdown",
   "metadata": {},
   "source": [
    "We want to solve the following program :\n",
    "\n",
    "\n",
    "$$\\underset{c_1, c_2}{min}\\hspace{0.3cm} \\|c_1 \\|_1 + \\|c_2\\|_1$$\n",
    "$$s.t. x = \\left[\\Phi_1 \\middle|  \\Phi_2 \\right] \\begin{bmatrix}c_1 \\\\ c_2 \\end{bmatrix} $$\n",
    "\n",
    "The constraint can be rewritten \n",
    "\n",
    "We can rewrite it as a linear program\n",
    "\n",
    "$$min \\ \\mathbb{1}^T ( c_1^{+} + c_2^{+} + c_1^{-} + c_2^{-}) $$\n",
    "\n",
    "$$ s.t \\hspace{1cm} \n",
    "\\begin{aligned}\n",
    "\\begin{bmatrix} \\Phi_1 & \\Phi_2 & -\\Phi_1 & -\\Phi_2 \\end{bmatrix} \\begin{bmatrix} c_1\\\\ c_2 \\\\ c_1^{-} \\\\ c_2^{-} \\end{bmatrix} = x\\\\\n",
    "0 \\leq c_i^{+}, 0 \\leq c_i^{-}, i=1, 2\n",
    "\\end{aligned}$$"
   ]
  },
  {
   "cell_type": "code",
   "execution_count": 10,
   "metadata": {},
   "outputs": [],
   "source": [
    "class DataSep():\n",
    "    \n",
    "    def __init__(self, basis1, basis2, x):\n",
    "        self.basis1 = matrix(basis1) # ndarray of size n * d1\n",
    "        self.basis2 = matrix(basis2) # ndarray of size n * d2\n",
    "        self.x = matrix(x) # 1d array of size n \n",
    "        \n",
    "    def coherence(self, phi):\n",
    "        \"\"\"\n",
    "        compute the mutual coherence on a frame phi\n",
    "        \"\"\"\n",
    "        mu = np.max( np.dot(phi, phi.T))\n",
    "        return mu\n",
    "    \n",
    "    def get_sparse_component(self):\n",
    "        \"\"\"\n",
    "        solve the basis pursuit program\n",
    "        \"\"\"\n",
    "        A = matrix(np.hstack((self.basis1, self.basis2, -self.basis1, -self.basis2)).T)\n",
    "        b = self.x\n",
    "        dim = A.shape[0]\n",
    "        \n",
    "        c = matrix( [1] * dim )\n",
    "        G = -matrix(np.eye(dim))\n",
    "        h = matrix([0] * dim)\n",
    "        sol = cvxopt.solvers.lp(c, G, h, A, b)\n",
    "        \n",
    "        return sol\n"
   ]
  },
  {
   "cell_type": "code",
   "execution_count": 6,
   "metadata": {},
   "outputs": [],
   "source": [
    "# to complete\n",
    "basis1 = None\n",
    "basis2 = None\n",
    "data_sep = DataSep(basis1, basis2, x)"
   ]
  },
  {
   "cell_type": "markdown",
   "metadata": {},
   "source": [
    "## Application"
   ]
  }
 ],
 "metadata": {
  "kernelspec": {
   "display_name": "Python 3",
   "language": "python",
   "name": "python3"
  },
  "language_info": {
   "codemirror_mode": {
    "name": "ipython",
    "version": 3
   },
   "file_extension": ".py",
   "mimetype": "text/x-python",
   "name": "python",
   "nbconvert_exporter": "python",
   "pygments_lexer": "ipython3",
   "version": "3.7.4"
  }
 },
 "nbformat": 4,
 "nbformat_minor": 4
}
