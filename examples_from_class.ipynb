{
 "cells": [
  {
   "cell_type": "code",
   "execution_count": 3,
   "metadata": {},
   "outputs": [],
   "source": [
    "import numpy as np\n",
    "from numpy import log,sum\n",
    "import os\n",
    "from scipy.io.wavfile import write,read"
   ]
  },
  {
   "cell_type": "code",
   "execution_count": 4,
   "metadata": {},
   "outputs": [
    {
     "data": {
      "text/html": [
       "\n",
       "    <div class=\"bk-root\">\n",
       "        <a href=\"https://bokeh.org\" target=\"_blank\" class=\"bk-logo bk-logo-small bk-logo-notebook\"></a>\n",
       "        <span id=\"1002\">Loading BokehJS ...</span>\n",
       "    </div>"
      ]
     },
     "metadata": {},
     "output_type": "display_data"
    },
    {
     "data": {
      "application/javascript": [
       "\n",
       "(function(root) {\n",
       "  function now() {\n",
       "    return new Date();\n",
       "  }\n",
       "\n",
       "  var force = true;\n",
       "\n",
       "  if (typeof root._bokeh_onload_callbacks === \"undefined\" || force === true) {\n",
       "    root._bokeh_onload_callbacks = [];\n",
       "    root._bokeh_is_loading = undefined;\n",
       "  }\n",
       "\n",
       "  var JS_MIME_TYPE = 'application/javascript';\n",
       "  var HTML_MIME_TYPE = 'text/html';\n",
       "  var EXEC_MIME_TYPE = 'application/vnd.bokehjs_exec.v0+json';\n",
       "  var CLASS_NAME = 'output_bokeh rendered_html';\n",
       "\n",
       "  /**\n",
       "   * Render data to the DOM node\n",
       "   */\n",
       "  function render(props, node) {\n",
       "    var script = document.createElement(\"script\");\n",
       "    node.appendChild(script);\n",
       "  }\n",
       "\n",
       "  /**\n",
       "   * Handle when an output is cleared or removed\n",
       "   */\n",
       "  function handleClearOutput(event, handle) {\n",
       "    var cell = handle.cell;\n",
       "\n",
       "    var id = cell.output_area._bokeh_element_id;\n",
       "    var server_id = cell.output_area._bokeh_server_id;\n",
       "    // Clean up Bokeh references\n",
       "    if (id != null && id in Bokeh.index) {\n",
       "      Bokeh.index[id].model.document.clear();\n",
       "      delete Bokeh.index[id];\n",
       "    }\n",
       "\n",
       "    if (server_id !== undefined) {\n",
       "      // Clean up Bokeh references\n",
       "      var cmd = \"from bokeh.io.state import curstate; print(curstate().uuid_to_server['\" + server_id + \"'].get_sessions()[0].document.roots[0]._id)\";\n",
       "      cell.notebook.kernel.execute(cmd, {\n",
       "        iopub: {\n",
       "          output: function(msg) {\n",
       "            var id = msg.content.text.trim();\n",
       "            if (id in Bokeh.index) {\n",
       "              Bokeh.index[id].model.document.clear();\n",
       "              delete Bokeh.index[id];\n",
       "            }\n",
       "          }\n",
       "        }\n",
       "      });\n",
       "      // Destroy server and session\n",
       "      var cmd = \"import bokeh.io.notebook as ion; ion.destroy_server('\" + server_id + \"')\";\n",
       "      cell.notebook.kernel.execute(cmd);\n",
       "    }\n",
       "  }\n",
       "\n",
       "  /**\n",
       "   * Handle when a new output is added\n",
       "   */\n",
       "  function handleAddOutput(event, handle) {\n",
       "    var output_area = handle.output_area;\n",
       "    var output = handle.output;\n",
       "\n",
       "    // limit handleAddOutput to display_data with EXEC_MIME_TYPE content only\n",
       "    if ((output.output_type != \"display_data\") || (!output.data.hasOwnProperty(EXEC_MIME_TYPE))) {\n",
       "      return\n",
       "    }\n",
       "\n",
       "    var toinsert = output_area.element.find(\".\" + CLASS_NAME.split(' ')[0]);\n",
       "\n",
       "    if (output.metadata[EXEC_MIME_TYPE][\"id\"] !== undefined) {\n",
       "      toinsert[toinsert.length - 1].firstChild.textContent = output.data[JS_MIME_TYPE];\n",
       "      // store reference to embed id on output_area\n",
       "      output_area._bokeh_element_id = output.metadata[EXEC_MIME_TYPE][\"id\"];\n",
       "    }\n",
       "    if (output.metadata[EXEC_MIME_TYPE][\"server_id\"] !== undefined) {\n",
       "      var bk_div = document.createElement(\"div\");\n",
       "      bk_div.innerHTML = output.data[HTML_MIME_TYPE];\n",
       "      var script_attrs = bk_div.children[0].attributes;\n",
       "      for (var i = 0; i < script_attrs.length; i++) {\n",
       "        toinsert[toinsert.length - 1].firstChild.setAttribute(script_attrs[i].name, script_attrs[i].value);\n",
       "      }\n",
       "      // store reference to server id on output_area\n",
       "      output_area._bokeh_server_id = output.metadata[EXEC_MIME_TYPE][\"server_id\"];\n",
       "    }\n",
       "  }\n",
       "\n",
       "  function register_renderer(events, OutputArea) {\n",
       "\n",
       "    function append_mime(data, metadata, element) {\n",
       "      // create a DOM node to render to\n",
       "      var toinsert = this.create_output_subarea(\n",
       "        metadata,\n",
       "        CLASS_NAME,\n",
       "        EXEC_MIME_TYPE\n",
       "      );\n",
       "      this.keyboard_manager.register_events(toinsert);\n",
       "      // Render to node\n",
       "      var props = {data: data, metadata: metadata[EXEC_MIME_TYPE]};\n",
       "      render(props, toinsert[toinsert.length - 1]);\n",
       "      element.append(toinsert);\n",
       "      return toinsert\n",
       "    }\n",
       "\n",
       "    /* Handle when an output is cleared or removed */\n",
       "    events.on('clear_output.CodeCell', handleClearOutput);\n",
       "    events.on('delete.Cell', handleClearOutput);\n",
       "\n",
       "    /* Handle when a new output is added */\n",
       "    events.on('output_added.OutputArea', handleAddOutput);\n",
       "\n",
       "    /**\n",
       "     * Register the mime type and append_mime function with output_area\n",
       "     */\n",
       "    OutputArea.prototype.register_mime_type(EXEC_MIME_TYPE, append_mime, {\n",
       "      /* Is output safe? */\n",
       "      safe: true,\n",
       "      /* Index of renderer in `output_area.display_order` */\n",
       "      index: 0\n",
       "    });\n",
       "  }\n",
       "\n",
       "  // register the mime type if in Jupyter Notebook environment and previously unregistered\n",
       "  if (root.Jupyter !== undefined) {\n",
       "    var events = require('base/js/events');\n",
       "    var OutputArea = require('notebook/js/outputarea').OutputArea;\n",
       "\n",
       "    if (OutputArea.prototype.mime_types().indexOf(EXEC_MIME_TYPE) == -1) {\n",
       "      register_renderer(events, OutputArea);\n",
       "    }\n",
       "  }\n",
       "\n",
       "  \n",
       "  if (typeof (root._bokeh_timeout) === \"undefined\" || force === true) {\n",
       "    root._bokeh_timeout = Date.now() + 5000;\n",
       "    root._bokeh_failed_load = false;\n",
       "  }\n",
       "\n",
       "  var NB_LOAD_WARNING = {'data': {'text/html':\n",
       "     \"<div style='background-color: #fdd'>\\n\"+\n",
       "     \"<p>\\n\"+\n",
       "     \"BokehJS does not appear to have successfully loaded. If loading BokehJS from CDN, this \\n\"+\n",
       "     \"may be due to a slow or bad network connection. Possible fixes:\\n\"+\n",
       "     \"</p>\\n\"+\n",
       "     \"<ul>\\n\"+\n",
       "     \"<li>re-rerun `output_notebook()` to attempt to load from CDN again, or</li>\\n\"+\n",
       "     \"<li>use INLINE resources instead, as so:</li>\\n\"+\n",
       "     \"</ul>\\n\"+\n",
       "     \"<code>\\n\"+\n",
       "     \"from bokeh.resources import INLINE\\n\"+\n",
       "     \"output_notebook(resources=INLINE)\\n\"+\n",
       "     \"</code>\\n\"+\n",
       "     \"</div>\"}};\n",
       "\n",
       "  function display_loaded() {\n",
       "    var el = document.getElementById(\"1002\");\n",
       "    if (el != null) {\n",
       "      el.textContent = \"BokehJS is loading...\";\n",
       "    }\n",
       "    if (root.Bokeh !== undefined) {\n",
       "      if (el != null) {\n",
       "        el.textContent = \"BokehJS \" + root.Bokeh.version + \" successfully loaded.\";\n",
       "      }\n",
       "    } else if (Date.now() < root._bokeh_timeout) {\n",
       "      setTimeout(display_loaded, 100)\n",
       "    }\n",
       "  }\n",
       "\n",
       "\n",
       "  function run_callbacks() {\n",
       "    try {\n",
       "      root._bokeh_onload_callbacks.forEach(function(callback) {\n",
       "        if (callback != null)\n",
       "          callback();\n",
       "      });\n",
       "    } finally {\n",
       "      delete root._bokeh_onload_callbacks\n",
       "    }\n",
       "    console.debug(\"Bokeh: all callbacks have finished\");\n",
       "  }\n",
       "\n",
       "  function load_libs(css_urls, js_urls, callback) {\n",
       "    if (css_urls == null) css_urls = [];\n",
       "    if (js_urls == null) js_urls = [];\n",
       "\n",
       "    root._bokeh_onload_callbacks.push(callback);\n",
       "    if (root._bokeh_is_loading > 0) {\n",
       "      console.debug(\"Bokeh: BokehJS is being loaded, scheduling callback at\", now());\n",
       "      return null;\n",
       "    }\n",
       "    if (js_urls == null || js_urls.length === 0) {\n",
       "      run_callbacks();\n",
       "      return null;\n",
       "    }\n",
       "    console.debug(\"Bokeh: BokehJS not loaded, scheduling load and callback at\", now());\n",
       "    root._bokeh_is_loading = css_urls.length + js_urls.length;\n",
       "\n",
       "    function on_load() {\n",
       "      root._bokeh_is_loading--;\n",
       "      if (root._bokeh_is_loading === 0) {\n",
       "        console.debug(\"Bokeh: all BokehJS libraries/stylesheets loaded\");\n",
       "        run_callbacks()\n",
       "      }\n",
       "    }\n",
       "\n",
       "    function on_error() {\n",
       "      console.error(\"failed to load \" + url);\n",
       "    }\n",
       "\n",
       "    for (var i = 0; i < css_urls.length; i++) {\n",
       "      var url = css_urls[i];\n",
       "      const element = document.createElement(\"link\");\n",
       "      element.onload = on_load;\n",
       "      element.onerror = on_error;\n",
       "      element.rel = \"stylesheet\";\n",
       "      element.type = \"text/css\";\n",
       "      element.href = url;\n",
       "      console.debug(\"Bokeh: injecting link tag for BokehJS stylesheet: \", url);\n",
       "      document.body.appendChild(element);\n",
       "    }\n",
       "\n",
       "    for (var i = 0; i < js_urls.length; i++) {\n",
       "      var url = js_urls[i];\n",
       "      var element = document.createElement('script');\n",
       "      element.onload = on_load;\n",
       "      element.onerror = on_error;\n",
       "      element.async = false;\n",
       "      element.src = url;\n",
       "      console.debug(\"Bokeh: injecting script tag for BokehJS library: \", url);\n",
       "      document.head.appendChild(element);\n",
       "    }\n",
       "  };var element = document.getElementById(\"1002\");\n",
       "  if (element == null) {\n",
       "    console.error(\"Bokeh: ERROR: autoload.js configured with elementid '1002' but no matching script tag was found. \")\n",
       "    return false;\n",
       "  }\n",
       "\n",
       "  function inject_raw_css(css) {\n",
       "    const element = document.createElement(\"style\");\n",
       "    element.appendChild(document.createTextNode(css));\n",
       "    document.body.appendChild(element);\n",
       "  }\n",
       "\n",
       "  \n",
       "  var js_urls = [\"https://cdn.pydata.org/bokeh/release/bokeh-1.4.0.min.js\", \"https://cdn.pydata.org/bokeh/release/bokeh-widgets-1.4.0.min.js\", \"https://cdn.pydata.org/bokeh/release/bokeh-tables-1.4.0.min.js\", \"https://cdn.pydata.org/bokeh/release/bokeh-gl-1.4.0.min.js\"];\n",
       "  var css_urls = [];\n",
       "  \n",
       "\n",
       "  var inline_js = [\n",
       "    function(Bokeh) {\n",
       "      Bokeh.set_log_level(\"info\");\n",
       "    },\n",
       "    function(Bokeh) {\n",
       "    \n",
       "    \n",
       "    }\n",
       "  ];\n",
       "\n",
       "  function run_inline_js() {\n",
       "    \n",
       "    if (root.Bokeh !== undefined || force === true) {\n",
       "      \n",
       "    for (var i = 0; i < inline_js.length; i++) {\n",
       "      inline_js[i].call(root, root.Bokeh);\n",
       "    }\n",
       "    if (force === true) {\n",
       "        display_loaded();\n",
       "      }} else if (Date.now() < root._bokeh_timeout) {\n",
       "      setTimeout(run_inline_js, 100);\n",
       "    } else if (!root._bokeh_failed_load) {\n",
       "      console.log(\"Bokeh: BokehJS failed to load within specified timeout.\");\n",
       "      root._bokeh_failed_load = true;\n",
       "    } else if (force !== true) {\n",
       "      var cell = $(document.getElementById(\"1002\")).parents('.cell').data().cell;\n",
       "      cell.output_area.append_execute_result(NB_LOAD_WARNING)\n",
       "    }\n",
       "\n",
       "  }\n",
       "\n",
       "  if (root._bokeh_is_loading === 0) {\n",
       "    console.debug(\"Bokeh: BokehJS loaded, going straight to plotting\");\n",
       "    run_inline_js();\n",
       "  } else {\n",
       "    load_libs(css_urls, js_urls, function() {\n",
       "      console.debug(\"Bokeh: BokehJS plotting callback run at\", now());\n",
       "      run_inline_js();\n",
       "    });\n",
       "  }\n",
       "}(window));"
      ],
      "application/vnd.bokehjs_load.v0+json": "\n(function(root) {\n  function now() {\n    return new Date();\n  }\n\n  var force = true;\n\n  if (typeof root._bokeh_onload_callbacks === \"undefined\" || force === true) {\n    root._bokeh_onload_callbacks = [];\n    root._bokeh_is_loading = undefined;\n  }\n\n  \n\n  \n  if (typeof (root._bokeh_timeout) === \"undefined\" || force === true) {\n    root._bokeh_timeout = Date.now() + 5000;\n    root._bokeh_failed_load = false;\n  }\n\n  var NB_LOAD_WARNING = {'data': {'text/html':\n     \"<div style='background-color: #fdd'>\\n\"+\n     \"<p>\\n\"+\n     \"BokehJS does not appear to have successfully loaded. If loading BokehJS from CDN, this \\n\"+\n     \"may be due to a slow or bad network connection. Possible fixes:\\n\"+\n     \"</p>\\n\"+\n     \"<ul>\\n\"+\n     \"<li>re-rerun `output_notebook()` to attempt to load from CDN again, or</li>\\n\"+\n     \"<li>use INLINE resources instead, as so:</li>\\n\"+\n     \"</ul>\\n\"+\n     \"<code>\\n\"+\n     \"from bokeh.resources import INLINE\\n\"+\n     \"output_notebook(resources=INLINE)\\n\"+\n     \"</code>\\n\"+\n     \"</div>\"}};\n\n  function display_loaded() {\n    var el = document.getElementById(\"1002\");\n    if (el != null) {\n      el.textContent = \"BokehJS is loading...\";\n    }\n    if (root.Bokeh !== undefined) {\n      if (el != null) {\n        el.textContent = \"BokehJS \" + root.Bokeh.version + \" successfully loaded.\";\n      }\n    } else if (Date.now() < root._bokeh_timeout) {\n      setTimeout(display_loaded, 100)\n    }\n  }\n\n\n  function run_callbacks() {\n    try {\n      root._bokeh_onload_callbacks.forEach(function(callback) {\n        if (callback != null)\n          callback();\n      });\n    } finally {\n      delete root._bokeh_onload_callbacks\n    }\n    console.debug(\"Bokeh: all callbacks have finished\");\n  }\n\n  function load_libs(css_urls, js_urls, callback) {\n    if (css_urls == null) css_urls = [];\n    if (js_urls == null) js_urls = [];\n\n    root._bokeh_onload_callbacks.push(callback);\n    if (root._bokeh_is_loading > 0) {\n      console.debug(\"Bokeh: BokehJS is being loaded, scheduling callback at\", now());\n      return null;\n    }\n    if (js_urls == null || js_urls.length === 0) {\n      run_callbacks();\n      return null;\n    }\n    console.debug(\"Bokeh: BokehJS not loaded, scheduling load and callback at\", now());\n    root._bokeh_is_loading = css_urls.length + js_urls.length;\n\n    function on_load() {\n      root._bokeh_is_loading--;\n      if (root._bokeh_is_loading === 0) {\n        console.debug(\"Bokeh: all BokehJS libraries/stylesheets loaded\");\n        run_callbacks()\n      }\n    }\n\n    function on_error() {\n      console.error(\"failed to load \" + url);\n    }\n\n    for (var i = 0; i < css_urls.length; i++) {\n      var url = css_urls[i];\n      const element = document.createElement(\"link\");\n      element.onload = on_load;\n      element.onerror = on_error;\n      element.rel = \"stylesheet\";\n      element.type = \"text/css\";\n      element.href = url;\n      console.debug(\"Bokeh: injecting link tag for BokehJS stylesheet: \", url);\n      document.body.appendChild(element);\n    }\n\n    for (var i = 0; i < js_urls.length; i++) {\n      var url = js_urls[i];\n      var element = document.createElement('script');\n      element.onload = on_load;\n      element.onerror = on_error;\n      element.async = false;\n      element.src = url;\n      console.debug(\"Bokeh: injecting script tag for BokehJS library: \", url);\n      document.head.appendChild(element);\n    }\n  };var element = document.getElementById(\"1002\");\n  if (element == null) {\n    console.error(\"Bokeh: ERROR: autoload.js configured with elementid '1002' but no matching script tag was found. \")\n    return false;\n  }\n\n  function inject_raw_css(css) {\n    const element = document.createElement(\"style\");\n    element.appendChild(document.createTextNode(css));\n    document.body.appendChild(element);\n  }\n\n  \n  var js_urls = [\"https://cdn.pydata.org/bokeh/release/bokeh-1.4.0.min.js\", \"https://cdn.pydata.org/bokeh/release/bokeh-widgets-1.4.0.min.js\", \"https://cdn.pydata.org/bokeh/release/bokeh-tables-1.4.0.min.js\", \"https://cdn.pydata.org/bokeh/release/bokeh-gl-1.4.0.min.js\"];\n  var css_urls = [];\n  \n\n  var inline_js = [\n    function(Bokeh) {\n      Bokeh.set_log_level(\"info\");\n    },\n    function(Bokeh) {\n    \n    \n    }\n  ];\n\n  function run_inline_js() {\n    \n    if (root.Bokeh !== undefined || force === true) {\n      \n    for (var i = 0; i < inline_js.length; i++) {\n      inline_js[i].call(root, root.Bokeh);\n    }\n    if (force === true) {\n        display_loaded();\n      }} else if (Date.now() < root._bokeh_timeout) {\n      setTimeout(run_inline_js, 100);\n    } else if (!root._bokeh_failed_load) {\n      console.log(\"Bokeh: BokehJS failed to load within specified timeout.\");\n      root._bokeh_failed_load = true;\n    } else if (force !== true) {\n      var cell = $(document.getElementById(\"1002\")).parents('.cell').data().cell;\n      cell.output_area.append_execute_result(NB_LOAD_WARNING)\n    }\n\n  }\n\n  if (root._bokeh_is_loading === 0) {\n    console.debug(\"Bokeh: BokehJS loaded, going straight to plotting\");\n    run_inline_js();\n  } else {\n    load_libs(css_urls, js_urls, function() {\n      console.debug(\"Bokeh: BokehJS plotting callback run at\", now());\n      run_inline_js();\n    });\n  }\n}(window));"
     },
     "metadata": {},
     "output_type": "display_data"
    }
   ],
   "source": [
    "from bokeh.application import Application\n",
    "from bokeh.application.handlers import FunctionHandler\n",
    "\n",
    "import bokeh.plotting.figure as bk_figure\n",
    "from bokeh.io import curdoc, show\n",
    "from bokeh.layouts import row, widgetbox\n",
    "from bokeh.models import ColumnDataSource\n",
    "from bokeh.models.widgets import Slider, TextInput, Button, RadioButtonGroup, Dropdown, Toggle\n",
    "from bokeh.io import output_notebook\n",
    "from bokeh.events import MouseLeave, Tap, DoubleTap, MouseMove\n",
    "\n",
    "from bokeh.application import Application\n",
    "from bokeh.application.handlers import FunctionHandler\n",
    "\n",
    "output_notebook()"
   ]
  },
  {
   "cell_type": "code",
   "execution_count": 5,
   "metadata": {},
   "outputs": [],
   "source": [
    "class Synth(object):\n",
    "\n",
    "    def __init__(self, Fe=16000):\n",
    "\n",
    "        object.__init__(self)\n",
    "        \n",
    "        self.Fe = Fe\n",
    "        self._dx = 1/Fe\n",
    "\n",
    "        \n",
    "    def pure(self,A=.8,F=440,duration=3,shape='sine',random_phase=False,phase=0):\n",
    "\n",
    "        dx = self._dx\n",
    "\n",
    "        if (random_phase): phi = np.random.uniform(0,1)\n",
    "        else: phi = phase\n",
    "\n",
    "        x= np.arange(0,duration,self._dx)*F+phi\n",
    "\n",
    "        if (shape=='sine'):\n",
    "            res = A*np.sin(x*2*np.pi)\n",
    "        elif (shape=='sawtooth'):\n",
    "            x1 = x-np.floor(x)\n",
    "            res = A*(2*x1-1)\n",
    "        elif (shape==\"triangle\"):\n",
    "            x1 = x-np.floor(x)\n",
    "            res = A*((x1<=1./2)*(4*x1-1)+(x1>1./2)*(-4*x1+3))\n",
    "        elif (shape == 'square'):\n",
    "            res = A*np.sign(np.sin(2*np.pi*x))\n",
    "\n",
    "        return(res)\n",
    "\n",
    "    def noise(self,duration=3,sigma=.3):\n",
    "        x = np.arange(0,duration,self._dx)\n",
    "        n = len(x)\n",
    "        y = np.random.normal(scale=sigma,size=n)\n",
    "        return(y)\n",
    "    \n",
    "    def chord(self,chord,A=.8,duration=3,shape='sine',random_phase=False):\n",
    "\n",
    "        res = self.pure(A=0,F=1,duration=duration)\n",
    "\n",
    "        first = True\n",
    "        for note in chord:\n",
    "            A1 = 1\n",
    "            p = 0\n",
    "            if (random_phase): p = np.random.uniform(0,1)\n",
    "            else: p=0\n",
    "            f = note['f']\n",
    "            a = note['a']\n",
    "            on = note['on']\n",
    "            if on:\n",
    "                if f<0:\n",
    "                    s=self.noise(duration=duration,sigma=A)\n",
    "                else:\n",
    "                    s = self.pure(A=a,F=f,duration=duration,shape=shape,random_phase=False,phase=p)\n",
    "                if (first):\n",
    "                    res = s\n",
    "                    first = False\n",
    "                else: res += s\n",
    "\n",
    "        res /= len(chord)\n",
    "\n",
    "        return res"
   ]
  },
  {
   "cell_type": "code",
   "execution_count": 6,
   "metadata": {},
   "outputs": [],
   "source": [
    "class Plot(object):\n",
    "    def __init__(self, sig , Fe=16000, x_display_range=None, flag_display=True):\n",
    "        object.__init__(self)\n",
    "\n",
    "        self.Fe = Fe\n",
    "        self._dx = 1/Fe\n",
    "        self._x = self._x_orig = np.arange(0,len(sig)*self._dx,self._dx)\n",
    "        self._y = self._y_orig = sig\n",
    "        self._x_min = 0\n",
    "        self._x_max = self._x_orig[-1]\n",
    "        self._cut_sig(x_display_range)\n",
    "\n",
    "        self.build_display()\n",
    "        \n",
    "        if flag_display:\n",
    "            self.display()\n",
    "            \n",
    "\n",
    "    def play(self,flag_norm=True,blocking=False,selection=True):\n",
    "\n",
    "        if selection:\n",
    "            y = self._y\n",
    "        else:\n",
    "            y = self._y_orig\n",
    "            \n",
    "        if (flag_norm): y = np.int16(y/np.max(np.abs(y)) * 32767)\n",
    "        else: y = np.int16(y * 32767)\n",
    "\n",
    "        write('test.wav', self.Fe, y)\n",
    "\n",
    "        if (blocking):\n",
    "            os.system(\"./play test.wav\")\n",
    "        else:\n",
    "            os.system(\"./play test.wav &\")\n",
    "            \n",
    "    def _cut_sig(self,x_range=None):\n",
    "        if x_range is None:\n",
    "            self._x_min = 0\n",
    "            self._x_max = self._x_orig[-1]\n",
    "        else:\n",
    "            self._x_min,self._x_max = x_range\n",
    "        n_min = int(self._x_min/self._dx)\n",
    "        n_max = int(self._x_max/self._dx)\n",
    "        N = n_max-n_min\n",
    "        self._x = np.linspace(self._x_min,self._x_max,N)\n",
    "        self._y = self._y_orig[n_min:n_max]\n",
    "\n",
    "    def _redraw(self):\n",
    "        self._source.data = dict(x=self._x, y=self._y)\n",
    "\n",
    "    def _add_xy_widgets(self,width = 80):\n",
    "        self._w_x_text = TextInput(title=\"\",width=80,value='time')\n",
    "        self._w_y_text = TextInput(title=\"\",width=80,value='value')\n",
    "        def leave(event):\n",
    "            self._w_x_text.value='time'\n",
    "            self._w_y_text.value='value'\n",
    "        def move(event):\n",
    "            self._w_x_text.value=str(event.x)\n",
    "            self._w_y_text.value=str(event.y)\n",
    "        self._plot.on_event(MouseLeave,leave)\n",
    "        self._plot.on_event(MouseMove,move)\n",
    "        return [self._w_x_text,self._w_y_text]\n",
    "    \n",
    "    def _add_zoom(self,width = 80):\n",
    "        def zoom_left(event):\n",
    "            self._cut_sig([event.x,self._x_max])\n",
    "            self._redraw()                        \n",
    "        def zoom_right(event):\n",
    "            self._cut_sig([self._x_min,event.x])\n",
    "            self._redraw()\n",
    "        self._plot.on_event(Tap,zoom_left)\n",
    "        self._plot.on_event(DoubleTap,zoom_right)\n",
    "        \n",
    "        self._w_reset_button = Button(label=\"Unzoom\",width=80)\n",
    "        self._w_reset_button.background='green'\n",
    "        def unzoom(event):\n",
    "            self._cut_sig()\n",
    "            self._redraw()            \n",
    "        self._w_reset_button.on_click(unzoom)\n",
    "        \n",
    "        return(self._w_reset_button)\n",
    "\n",
    "    def _add_play(self,width = 80):\n",
    "        def play_selection(event):\n",
    "            self.play()\n",
    "        def play_all(event):\n",
    "            self.play(selection=False)\n",
    "        \n",
    "        self._w_play_selection_button = Button(label=\"Play\",width=80)\n",
    "        self._w_play_selection_button.background='green'\n",
    "        self._w_play_selection_button.on_click(play_selection)\n",
    "        \n",
    "        self._w_play_all_button = Button(label=\"PlayA\",width=80)\n",
    "        self._w_play_all_button.background='green'\n",
    "        self._w_play_all_button.on_click(play_all)\n",
    "\n",
    "        return([self._w_play_selection_button,self._w_play_all_button])\n",
    "    \n",
    "    def set_sig(self, sig, flag_redraw=True, flag_play_all=True):\n",
    "        self._x_orig = np.arange(0,len(sig)*self._dx,self._dx)\n",
    "        self._y_orig = sig\n",
    "        self._cut_sig(x_range=[self._x_min,self._x_max])\n",
    "        if flag_redraw:\n",
    "            self._redraw()\n",
    "        if flag_play_all:\n",
    "            self.play(selection=False)\n",
    "        \n",
    "    def build_display(self):        \n",
    "        \n",
    "        self._source = ColumnDataSource(data=dict(x=self._x, y=self._y))\n",
    "        self._plot = bk_figure(plot_height=500, plot_width=500, title=\"\", tools=\"\")\n",
    "        self._plot.line('x', 'y', source=self._source, line_width=1, line_alpha=0.6)\n",
    "        \n",
    "        wunzoom = self._add_zoom()\n",
    "        wx,wy = self._add_xy_widgets()\n",
    "        wp,wpa = self._add_play()\n",
    "        \n",
    "        self.layout = widgetbox(self._plot,row(wx,wy,wunzoom,wp,wpa))\n",
    "        \n",
    "    def display(self):\n",
    "        \n",
    "        def modify_doc(doc):\n",
    "            doc.add_root(row(self.layout, width=800))\n",
    "            doc.title = \"Sliders\"\n",
    "        handler = FunctionHandler(modify_doc)\n",
    "        app = Application(handler)\n",
    "        show(app) "
   ]
  },
  {
   "cell_type": "code",
   "execution_count": 7,
   "metadata": {},
   "outputs": [],
   "source": [
    "class HarmonicWidget(object):\n",
    "\n",
    "    def __init__(self, Fe= 16000, A=.8, F=261.63, duration=1, x_display_range=[0,.02], n_harmonics = 12):\n",
    "        \n",
    "        object.__init__(self)\n",
    "        \n",
    "        self._Fe = Fe\n",
    "        self._synth = Synth(Fe)\n",
    "        \n",
    "        self._A = A\n",
    "        \n",
    "        self._n_harmonics = n_harmonics\n",
    "        self._shape_labels = [\"sine\",\"triangle\",\"sawtooth\",\"square\",\"noise\"]\n",
    "        \n",
    "        self._duration = duration\n",
    "        self._random_phase = False\n",
    "        \n",
    "        self._factor = 1\n",
    "        \n",
    "        self._synth = Synth(Fe)\n",
    "        sig = self._synth.pure(A=A, F=F, duration=duration, shape='sine', random_phase=False, phase=0)\n",
    "        \n",
    "        self._plot = Plot(sig, Fe=Fe, x_display_range=x_display_range, flag_display=False)\n",
    "\n",
    "        w_F1,w_F,w_harmonic = self._add_harmonic_widget(F)\n",
    "        w_shape = self._add_shape_widget()\n",
    "        \n",
    "        w_op,w_om,w_fp,w_fm = self._add_transpose_widget()\n",
    "        \n",
    "        c = widgetbox(row(w_F1,w_F),w_harmonic,w_shape,row(w_op,w_om,w_fp,w_fm))\n",
    "        layout = row(self._plot.layout,c)\n",
    "        \n",
    "        def modify_doc(doc):\n",
    "            doc.add_root(row(layout, width=800))\n",
    "            doc.title = \"Sliders\"\n",
    "            \n",
    "        handler = FunctionHandler(modify_doc)\n",
    "        app = Application(handler)\n",
    "        \n",
    "        show(app) \n",
    "\n",
    "    def _update(self):\n",
    "        n = self._w_harmonics_radiogroup.active  \n",
    "        shape = self._shape_labels[self._w_shape_radiogroup.active]\n",
    "        self._w_F_cur.value = str(float(self._w_F1.value)*(n+1)*self._factor)\n",
    "        F = float(self._w_F_cur.value)\n",
    "        if shape=='noise':\n",
    "            sig = self._synth.noise(duration=self._duration,sigma=.3)\n",
    "        else:\n",
    "            sig = self._synth.pure(A=self._A, F=F, duration=self._duration, \n",
    "                                   shape=shape, random_phase=self._random_phase, \n",
    "                                   phase=0)\n",
    "        self._plot.set_sig(sig)\n",
    "       \n",
    "    def _add_harmonic_widget(self,F):\n",
    "        def update_widget1(event):\n",
    "            self._factor = 1\n",
    "            self._update()\n",
    "        def update_widget3(a,b,c):\n",
    "            self._factor = 1\n",
    "            self._update()\n",
    "        self._w_harmonics_radiogroup = RadioButtonGroup(labels=[\"1\",\"2\",\"3\",\"4\",\"5\",\"6\",\"7\",\"8\",\"9\",\"10\",\"11\",\"12\"], active=0)\n",
    "        self._w_harmonics_radiogroup.on_click(update_widget1)        \n",
    "        self._w_F1 = TextInput(title=\"F1\",width=80,value=str(F))\n",
    "        self._w_F_cur = TextInput(title=\"F\",width=80,value=str(F))\n",
    "        self._w_F1.on_change('value',update_widget3)        \n",
    "        \n",
    "        return([self._w_F1,self._w_F_cur,self._w_harmonics_radiogroup]) \n",
    "        \n",
    "    def _add_shape_widget(self):\n",
    "        shape_labels = [\"sine\",\"triangle\",\"sawtooth\",\"square\",\"noise\"]\n",
    "        self._w_shape_radiogroup = RadioButtonGroup(labels=shape_labels, active=0)\n",
    "        def update_widget(event):\n",
    "            self._update()\n",
    "        self._w_shape_radiogroup.on_click(update_widget)\n",
    "        return(self._w_shape_radiogroup)\n",
    "        \n",
    "    def _add_transpose_widget(self):\n",
    "        def updateop(v):\n",
    "            self._factor *= 2\n",
    "            self._update()\n",
    "        def updateom(v):\n",
    "            self._factor /= 2\n",
    "            self._update()\n",
    "        def updatefp(v):\n",
    "            self._factor *= 3/2\n",
    "            self._update()\n",
    "        def updatefm(v):\n",
    "            self._factor /= 3/2\n",
    "            self._update()\n",
    "        self._w_op = Button(label=\"Octave+\",width=80)\n",
    "        self._w_om = Button(label=\"Octave-\",width=80)\n",
    "        self._w_fp = Button(label=\"Fifth+\",width=80)\n",
    "        self._w_fm = Button(label=\"Fith-\",width=80)\n",
    "        self._w_op.on_click(updateop)\n",
    "        self._w_om.on_click(updateom)\n",
    "        self._w_fp.on_click(updatefp)\n",
    "        self._w_fm.on_click(updatefm)\n",
    "\n",
    "        return([self._w_op,self._w_om,self._w_fp,self._w_fm])"
   ]
  },
  {
   "cell_type": "code",
   "execution_count": 8,
   "metadata": {},
   "outputs": [],
   "source": [
    "class ChordWidget(object):\n",
    "\n",
    "    def __init__(self, notes=None, Fe= 16000, A=.8, duration=1, x_display_range=[0,.02]):\n",
    "        \n",
    "        object.__init__(self)\n",
    "        \n",
    "        self._Fe = Fe\n",
    "        self._synth = Synth(Fe)\n",
    "        \n",
    "        self._A = A\n",
    "        \n",
    "        self._shape_labels = [\"sine\",\"triangle\"]\n",
    "        \n",
    "        self._duration = duration\n",
    "        self._random_phase = False\n",
    "        \n",
    "        self._synth = Synth(Fe)\n",
    "\n",
    "        if notes:\n",
    "            self._n_harmonics = len(notes)\n",
    "            nn = []\n",
    "            for n in range(self._n_harmonics):\n",
    "                nn.append(dict(f=notes[n][0],a=notes[n][1],on=notes[n][2]==1))\n",
    "            notes = nn\n",
    "        else:\n",
    "            self._n_harmonics = 5\n",
    "            notes = []\n",
    "            for n in range(self._n_harmonics):\n",
    "                notes.append(dict(f=440,a=1,on=False)) \n",
    "            notes[0]['on']=True\n",
    "            \n",
    "        sig = self._synth.chord(chord = notes,duration=duration)  \n",
    "        self.sig = sig\n",
    "        \n",
    "        self._plot = Plot(sig, Fe=Fe, x_display_range=x_display_range, flag_display=False)\n",
    "\n",
    "        widgets = []\n",
    "\n",
    "        def update_widget1_(v1):\n",
    "            notes = []\n",
    "            for n in range(self._n_harmonics):\n",
    "                notes.append(dict(f=440,a=1,on=False)) \n",
    "            for n in range(self._n_harmonics):\n",
    "                notes[n]['f'] = float(widgets[n]['f'].value)\n",
    "                notes[n]['a'] = float(widgets[n]['a'].value)\n",
    "                notes[n]['on'] = widgets[n]['on'].active\n",
    "            random_phase = random_phase_toggle.active\n",
    "            shape = shape_labels[shape_radiogroup.active]\n",
    "            y = self._synth.chord(chord = notes,duration=duration,random_phase=random_phase,shape=shape)  \n",
    "            self._plot.set_sig(y)\n",
    "\n",
    "        def update_widget1(v1,v2,v3):\n",
    "            update_widget1_(v1)\n",
    "\n",
    "        widgetcolumns = [[],[],[]]\n",
    "        for n in range(self._n_harmonics):\n",
    "            freq = TextInput(value=str(notes[n]['f']),title=\"f\"+str(n+1),width=80)\n",
    "            amp = TextInput(value=str(notes[n]['a']),title=\"a\"+str(n+1),width=80)\n",
    "            on = Toggle(label=\"On/Off \"+str(n+1),width=80,active=notes[n]['on'])\n",
    "            d = dict(f=freq,a=amp,on=on)\n",
    "            widgets.append(d) \n",
    "            widgetcolumns[0].append(freq)\n",
    "            widgetcolumns[1].append(amp)\n",
    "            widgetcolumns[2].append(on)\n",
    "            amp.on_change('value',update_widget1)\n",
    "            freq.on_change('value',update_widget1)\n",
    "            on.on_click(update_widget1_)\n",
    "            \n",
    "        shape_labels = [\"sine\",\"triangle\"]\n",
    "        shape_radiogroup = RadioButtonGroup(labels=shape_labels, active=0)        \n",
    "        shape_radiogroup.on_click(update_widget1_)\n",
    "\n",
    "        random_phase_toggle = Toggle(label=\"RPhase\",width=80,active=False)\n",
    "        random_phase_toggle.on_click(update_widget1_)\n",
    "        widgetcolumns[1].append(random_phase_toggle)\n",
    "        widgetcolumns[2].append(shape_radiogroup)\n",
    "\n",
    "        # Set up layouts and add to document\n",
    "        layout = row(self._plot.layout,widgetbox(widgetcolumns[0]),widgetbox(widgetcolumns[1]),widgetbox(widgetcolumns[2]))\n",
    "\n",
    "        def modify_doc(doc):\n",
    "            doc.add_root(row(layout, width=800))\n",
    "            doc.title = \"Sliders\"\n",
    "            \n",
    "        handler = FunctionHandler(modify_doc)\n",
    "        app = Application(handler)\n",
    "        show(app) "
   ]
  },
  {
   "cell_type": "code",
   "execution_count": 7,
   "metadata": {},
   "outputs": [
    {
     "data": {
      "application/vnd.bokehjs_exec.v0+json": "",
      "text/html": [
       "\n",
       "<script src=\"http://localhost:49735/autoload.js?bokeh-autoload-element=1037&bokeh-absolute-url=http://localhost:49735&resources=none\" id=\"1037\"></script>"
      ]
     },
     "metadata": {
      "application/vnd.bokehjs_exec.v0+json": {
       "server_id": "52fedb4fdbfc4273837c573302168de2"
      }
     },
     "output_type": "display_data"
    },
    {
     "data": {
      "text/plain": [
       "<__main__.Plot at 0x1170c4e50>"
      ]
     },
     "execution_count": 7,
     "metadata": {},
     "output_type": "execute_result"
    }
   ],
   "source": [
    "# Clarinet \n",
    "Fe,s = read(\"clarinette.wav\")\n",
    "Plot(s,Fe=Fe)"
   ]
  },
  {
   "cell_type": "code",
   "execution_count": 13,
   "metadata": {},
   "outputs": [
    {
     "data": {
      "application/vnd.bokehjs_exec.v0+json": "",
      "text/html": [
       "\n",
       "<script src=\"http://localhost:51084/autoload.js?bokeh-autoload-element=1331&bokeh-absolute-url=http://localhost:51084&resources=none\" id=\"1331\"></script>"
      ]
     },
     "metadata": {
      "application/vnd.bokehjs_exec.v0+json": {
       "server_id": "4c40d6c2b303457c8b89460074f65a2b"
      }
     },
     "output_type": "display_data"
    },
    {
     "data": {
      "text/plain": [
       "<__main__.Plot at 0x116b81d90>"
      ]
     },
     "execution_count": 13,
     "metadata": {},
     "output_type": "execute_result"
    }
   ],
   "source": [
    "# Chat \n",
    "Fe,s = read(\"chat.wav\")\n",
    "Plot(s,Fe=Fe)"
   ]
  },
  {
   "cell_type": "code",
   "execution_count": 33,
   "metadata": {},
   "outputs": [
    {
     "data": {
      "application/vnd.bokehjs_exec.v0+json": "",
      "text/html": [
       "\n",
       "<script src=\"http://localhost:51008/autoload.js?bokeh-autoload-element=5300&bokeh-absolute-url=http://localhost:51008&resources=none\" id=\"5300\"></script>"
      ]
     },
     "metadata": {
      "application/vnd.bokehjs_exec.v0+json": {
       "server_id": "794a411462554039ad9a43a17b1c2da5"
      }
     },
     "output_type": "display_data"
    },
    {
     "data": {
      "text/plain": [
       "<__main__.ChordWidget at 0x118b85410>"
      ]
     },
     "execution_count": 33,
     "metadata": {},
     "output_type": "execute_result"
    },
    {
     "name": "stderr",
     "output_type": "stream",
     "text": [
      "/opt/miniconda3/envs/py3k/lib/python3.7/site-packages/ipykernel_launcher.py:26: RuntimeWarning: invalid value encountered in true_divide\n"
     ]
    }
   ],
   "source": [
    "# I.1 Two building blocks : the pure sound and the white noise\n",
    "ChordWidget(notes=[(440,.8,1),(-1,1.3,0)])"
   ]
  },
  {
   "cell_type": "code",
   "execution_count": 29,
   "metadata": {},
   "outputs": [
    {
     "data": {
      "application/vnd.bokehjs_exec.v0+json": "",
      "text/html": [
       "\n",
       "<script src=\"http://localhost:50994/autoload.js?bokeh-autoload-element=4280&bokeh-absolute-url=http://localhost:50994&resources=none\" id=\"4280\"></script>"
      ]
     },
     "metadata": {
      "application/vnd.bokehjs_exec.v0+json": {
       "server_id": "9b7cafb4a571418b8d1b7e6acb711efb"
      }
     },
     "output_type": "display_data"
    },
    {
     "data": {
      "text/plain": [
       "<__main__.HarmonicWidget at 0x11781d910>"
      ]
     },
     "execution_count": 29,
     "metadata": {},
     "output_type": "execute_result"
    }
   ],
   "source": [
    "# I.2 Pure sound \n",
    "HarmonicWidget()"
   ]
  },
  {
   "cell_type": "code",
   "execution_count": 34,
   "metadata": {},
   "outputs": [
    {
     "data": {
      "application/vnd.bokehjs_exec.v0+json": "",
      "text/html": [
       "\n",
       "<script src=\"http://localhost:51021/autoload.js?bokeh-autoload-element=5592&bokeh-absolute-url=http://localhost:51021&resources=none\" id=\"5592\"></script>"
      ]
     },
     "metadata": {
      "application/vnd.bokehjs_exec.v0+json": {
       "server_id": "f427ce4110584c60978a57311e559bf3"
      }
     },
     "output_type": "display_data"
    },
    {
     "data": {
      "text/plain": [
       "<__main__.ChordWidget at 0x119035f10>"
      ]
     },
     "execution_count": 34,
     "metadata": {},
     "output_type": "execute_result"
    }
   ],
   "source": [
    "# I.4 Masking \n",
    "ChordWidget(notes=((440,.1,1),(-1,1.3,1)))"
   ]
  },
  {
   "cell_type": "code",
   "execution_count": 49,
   "metadata": {},
   "outputs": [
    {
     "data": {
      "application/vnd.bokehjs_exec.v0+json": "",
      "text/html": [
       "\n",
       "<script src=\"http://localhost:59020/autoload.js?bokeh-autoload-element=18606&bokeh-absolute-url=http://localhost:59020&resources=none\" id=\"18606\"></script>"
      ]
     },
     "metadata": {
      "application/vnd.bokehjs_exec.v0+json": {
       "server_id": "983c48d573f447ceb0bb7ef94d257244"
      }
     },
     "output_type": "display_data"
    },
    {
     "data": {
      "text/plain": [
       "<__main__.ChordWidget at 0x119616490>"
      ]
     },
     "execution_count": 49,
     "metadata": {},
     "output_type": "execute_result"
    }
   ],
   "source": [
    "# I.4 : interferences\n",
    "ChordWidget(notes = [(440,1,1),(429.29998,1,1)],duration=5,x_display_range=[0,1])"
   ]
  },
  {
   "cell_type": "code",
   "execution_count": 50,
   "metadata": {},
   "outputs": [
    {
     "data": {
      "application/vnd.bokehjs_exec.v0+json": "",
      "text/html": [
       "\n",
       "<script src=\"http://localhost:59023/autoload.js?bokeh-autoload-element=18699&bokeh-absolute-url=http://localhost:59023&resources=none\" id=\"18699\"></script>"
      ]
     },
     "metadata": {
      "application/vnd.bokehjs_exec.v0+json": {
       "server_id": "078df19c60cb4d8dbdaf04c06285f816"
      }
     },
     "output_type": "display_data"
    },
    {
     "data": {
      "text/plain": [
       "<__main__.ChordWidget at 0x119679d90>"
      ]
     },
     "execution_count": 50,
     "metadata": {},
     "output_type": "execute_result"
    }
   ],
   "source": [
    "# I.4 : interferences\n",
    "ChordWidget(notes = [(440,1,1),(429.29998,1,1),(440.5,1,1),(439.14999,1,1)],duration=5,x_display_range=[0,1])"
   ]
  },
  {
   "cell_type": "code",
   "execution_count": 51,
   "metadata": {},
   "outputs": [
    {
     "data": {
      "application/vnd.bokehjs_exec.v0+json": "",
      "text/html": [
       "\n",
       "<script src=\"http://localhost:59026/autoload.js?bokeh-autoload-element=18795&bokeh-absolute-url=http://localhost:59026&resources=none\" id=\"18795\"></script>"
      ]
     },
     "metadata": {
      "application/vnd.bokehjs_exec.v0+json": {
       "server_id": "5e83881515554a2faaf20c23b60f6732"
      }
     },
     "output_type": "display_data"
    },
    {
     "data": {
      "text/plain": [
       "<__main__.ChordWidget at 0x119869710>"
      ]
     },
     "execution_count": 51,
     "metadata": {},
     "output_type": "execute_result"
    }
   ],
   "source": [
    "# I.4 : interferences\n",
    "ChordWidget(notes = [(440,1,1),(443,1,1),(442.0999,1,1),(437,1,1),(439,1,1)],duration=5,x_display_range=[0,1])"
   ]
  },
  {
   "cell_type": "code",
   "execution_count": 54,
   "metadata": {},
   "outputs": [
    {
     "name": "stderr",
     "output_type": "stream",
     "text": [
      "/opt/miniconda3/envs/py3k/lib/python3.7/site-packages/ipykernel_launcher.py:26: RuntimeWarning: invalid value encountered in true_divide\n"
     ]
    }
   ],
   "source": [
    "# I.4 Interférences\n",
    "r=os.system('afplay risset-interf.aiff')"
   ]
  },
  {
   "cell_type": "code",
   "execution_count": 40,
   "metadata": {},
   "outputs": [
    {
     "data": {
      "application/vnd.bokehjs_exec.v0+json": "",
      "text/html": [
       "\n",
       "<script src=\"http://localhost:51044/autoload.js?bokeh-autoload-element=6792&bokeh-absolute-url=http://localhost:51044&resources=none\" id=\"6792\"></script>"
      ]
     },
     "metadata": {
      "application/vnd.bokehjs_exec.v0+json": {
       "server_id": "7968444eff32474594097949d42221d7"
      }
     },
     "output_type": "display_data"
    },
    {
     "data": {
      "text/plain": [
       "<__main__.ChordWidget at 0x119701b50>"
      ]
     },
     "execution_count": 40,
     "metadata": {},
     "output_type": "execute_result"
    }
   ],
   "source": [
    "# I.4 The pythagorician comma\n",
    "r =531441/524288\n",
    "F1 = 520\n",
    "ChordWidget(notes=[(F1,1,1),(F1*r,1,1)],duration=3)"
   ]
  },
  {
   "cell_type": "code",
   "execution_count": 41,
   "metadata": {},
   "outputs": [
    {
     "data": {
      "application/vnd.bokehjs_exec.v0+json": "",
      "text/html": [
       "\n",
       "<script src=\"http://localhost:51053/autoload.js?bokeh-autoload-element=7156&bokeh-absolute-url=http://localhost:51053&resources=none\" id=\"7156\"></script>"
      ]
     },
     "metadata": {
      "application/vnd.bokehjs_exec.v0+json": {
       "server_id": "339b890056864ac8a4d443dc2725627d"
      }
     },
     "output_type": "display_data"
    },
    {
     "data": {
      "text/plain": [
       "<__main__.ChordWidget at 0x118a4c3d0>"
      ]
     },
     "execution_count": 41,
     "metadata": {},
     "output_type": "execute_result"
    }
   ],
   "source": [
    "# The pythagorician perfect chord versus the harmonic one (5/4)\n",
    "F1 = 260\n",
    "ChordWidget(notes=[(F1,1,1),(F1*81/64,1,1),(F1*5/4,1,0),(F1*3/2,1,1)],duration=3)"
   ]
  },
  {
   "cell_type": "code",
   "execution_count": 42,
   "metadata": {},
   "outputs": [],
   "source": [
    "# Exemple de transpositions délirantes !?!"
   ]
  },
  {
   "cell_type": "code",
   "execution_count": 52,
   "metadata": {},
   "outputs": [
    {
     "data": {
      "application/vnd.bokehjs_exec.v0+json": "",
      "text/html": [
       "\n",
       "<script src=\"http://localhost:59039/autoload.js?bokeh-autoload-element=19212&bokeh-absolute-url=http://localhost:59039&resources=none\" id=\"19212\"></script>"
      ]
     },
     "metadata": {
      "application/vnd.bokehjs_exec.v0+json": {
       "server_id": "aa62c432444b49fb9c7b6a1a7c2f5698"
      }
     },
     "output_type": "display_data"
    },
    {
     "data": {
      "text/plain": [
       "<__main__.ChordWidget at 0x11987ad50>"
      ]
     },
     "execution_count": 52,
     "metadata": {},
     "output_type": "execute_result"
    },
    {
     "name": "stderr",
     "output_type": "stream",
     "text": [
      "/opt/miniconda3/envs/py3k/lib/python3.7/site-packages/ipykernel_launcher.py:26: RuntimeWarning: invalid value encountered in true_divide\n"
     ]
    }
   ],
   "source": [
    "# I.4 Pitch is periodicity\n",
    "ChordWidget(notes=[(440,.7,0),(1320,1,1),(2200,1,1),(2640,1,1),(3080,1,1)])"
   ]
  },
  {
   "cell_type": "code",
   "execution_count": 44,
   "metadata": {},
   "outputs": [
    {
     "data": {
      "application/vnd.bokehjs_exec.v0+json": "",
      "text/html": [
       "\n",
       "<script src=\"http://localhost:51066/autoload.js?bokeh-autoload-element=7536&bokeh-absolute-url=http://localhost:51066&resources=none\" id=\"7536\"></script>"
      ]
     },
     "metadata": {
      "application/vnd.bokehjs_exec.v0+json": {
       "server_id": "f4b4c0916dbf42fea15c3dbf1336f3ed"
      }
     },
     "output_type": "display_data"
    },
    {
     "data": {
      "text/plain": [
       "<__main__.ChordWidget at 0x11987ccd0>"
      ]
     },
     "execution_count": 44,
     "metadata": {},
     "output_type": "execute_result"
    }
   ],
   "source": [
    "# I.4 What about timber ? Chords versus monophonic \n",
    "ChordWidget(notes=[(220,1,1),(440,.5,1),(660,.3,1),(880,0.2,1)])"
   ]
  },
  {
   "cell_type": "code",
   "execution_count": 45,
   "metadata": {},
   "outputs": [],
   "source": [
    "# More fun "
   ]
  },
  {
   "cell_type": "code",
   "execution_count": 57,
   "metadata": {},
   "outputs": [],
   "source": [
    "r=os.system('afplay risset-timbre.aiff')"
   ]
  },
  {
   "cell_type": "code",
   "execution_count": 59,
   "metadata": {},
   "outputs": [],
   "source": [
    "r=os.system('afplay risset-transpo.aiff')"
   ]
  },
  {
   "cell_type": "code",
   "execution_count": 60,
   "metadata": {},
   "outputs": [],
   "source": [
    "r=os.system('afplay risset-acceler.aiff')"
   ]
  },
  {
   "cell_type": "code",
   "execution_count": null,
   "metadata": {},
   "outputs": [],
   "source": []
  },
  {
   "cell_type": "code",
   "execution_count": null,
   "metadata": {},
   "outputs": [],
   "source": []
  },
  {
   "cell_type": "code",
   "execution_count": 7,
   "metadata": {},
   "outputs": [
    {
     "data": {
      "application/vnd.bokehjs_exec.v0+json": "",
      "text/html": [
       "\n",
       "<script src=\"http://localhost:50898/autoload.js?bokeh-autoload-element=1037&bokeh-absolute-url=http://localhost:50898&resources=none\" id=\"1037\"></script>"
      ]
     },
     "metadata": {
      "application/vnd.bokehjs_exec.v0+json": {
       "server_id": "f9bf684a78cc4f80ae4fef4e178a020d"
      }
     },
     "output_type": "display_data"
    },
    {
     "data": {
      "text/plain": [
       "<__main__.Plot at 0x11d552f10>"
      ]
     },
     "execution_count": 7,
     "metadata": {},
     "output_type": "execute_result"
    }
   ],
   "source": [
    "# Trumpet \n",
    "Fe,s = read(\"clarinette.wav\")\n",
    "s = s/np.max(np.abs(s))\n",
    "Plot(s,Fe=Fe)"
   ]
  },
  {
   "cell_type": "code",
   "execution_count": 8,
   "metadata": {},
   "outputs": [
    {
     "data": {
      "application/vnd.bokehjs_exec.v0+json": "",
      "text/html": [
       "\n",
       "<script src=\"http://localhost:50901/autoload.js?bokeh-autoload-element=1220&bokeh-absolute-url=http://localhost:50901&resources=none\" id=\"1220\"></script>"
      ]
     },
     "metadata": {
      "application/vnd.bokehjs_exec.v0+json": {
       "server_id": "9de202ef43a5487caf2fbefcf1cb9650"
      }
     },
     "output_type": "display_data"
    },
    {
     "data": {
      "text/plain": [
       "<__main__.Plot at 0x11ca5a0d0>"
      ]
     },
     "execution_count": 8,
     "metadata": {},
     "output_type": "execute_result"
    }
   ],
   "source": [
    "nb_bits = 8\n",
    "nq = 2**nb_bits/2\n",
    "ns = np.round(s*nq)/nq\n",
    "Plot(ns-s,Fe=Fe)"
   ]
  },
  {
   "cell_type": "code",
   "execution_count": 10,
   "metadata": {},
   "outputs": [
    {
     "data": {
      "application/vnd.bokehjs_exec.v0+json": "",
      "text/html": [
       "\n",
       "<script src=\"http://localhost:50924/autoload.js?bokeh-autoload-element=3694&bokeh-absolute-url=http://localhost:50924&resources=none\" id=\"3694\"></script>"
      ]
     },
     "metadata": {
      "application/vnd.bokehjs_exec.v0+json": {
       "server_id": "9ce955a87faf41efbbd15c3bee0e5497"
      }
     },
     "output_type": "display_data"
    },
    {
     "data": {
      "text/plain": [
       "<__main__.Plot at 0x11de680d0>"
      ]
     },
     "execution_count": 10,
     "metadata": {},
     "output_type": "execute_result"
    }
   ],
   "source": [
    "Plot(ns,Fe=Fe)"
   ]
  },
  {
   "cell_type": "code",
   "execution_count": 14,
   "metadata": {},
   "outputs": [
    {
     "data": {
      "application/vnd.bokehjs_exec.v0+json": "",
      "text/html": [
       "\n",
       "<script src=\"http://localhost:50956/autoload.js?bokeh-autoload-element=7289&bokeh-absolute-url=http://localhost:50956&resources=none\" id=\"7289\"></script>"
      ]
     },
     "metadata": {
      "application/vnd.bokehjs_exec.v0+json": {
       "server_id": "cee0bbd62f264a05886abe8e18c0c8d9"
      }
     },
     "output_type": "display_data"
    }
   ],
   "source": [
    "s = ChordWidget(notes=[(220,1,1),(440,.5,1),(660,.3,1),(880,0.2,1)])"
   ]
  },
  {
   "cell_type": "code",
   "execution_count": 16,
   "metadata": {},
   "outputs": [
    {
     "data": {
      "application/vnd.bokehjs_exec.v0+json": "",
      "text/html": [
       "\n",
       "<script src=\"http://localhost:50967/autoload.js?bokeh-autoload-element=7972&bokeh-absolute-url=http://localhost:50967&resources=none\" id=\"7972\"></script>"
      ]
     },
     "metadata": {
      "application/vnd.bokehjs_exec.v0+json": {
       "server_id": "0d197e6cc2d64236be1365e9b6a6bceb"
      }
     },
     "output_type": "display_data"
    },
    {
     "data": {
      "text/plain": [
       "<__main__.Plot at 0x11f0793d0>"
      ]
     },
     "execution_count": 16,
     "metadata": {},
     "output_type": "execute_result"
    }
   ],
   "source": [
    "s = s.sig/np.max(np.abs(s.sig))\n",
    "nb_bits = 8\n",
    "nq = 2**nb_bits/2\n",
    "ns = np.round(s*nq)/nq\n",
    "Plot(ns-s,Fe=Fe)"
   ]
  },
  {
   "cell_type": "markdown",
   "metadata": {},
   "source": [
    "## ARMA"
   ]
  },
  {
   "cell_type": "code",
   "execution_count": 9,
   "metadata": {},
   "outputs": [],
   "source": [
    "def arma(duration,r,F,Fe=16000):\n",
    "    N = duration*Fe\n",
    "    a1 = -2*r*np.cos(2*np.pi*F/Fe)\n",
    "    a2 = r*r\n",
    "    input = np.zeros(N+2)\n",
    "    input[0] = 0\n",
    "    input[1] = 1\n",
    "    output = np.zeros(N+2)\n",
    "    for n in range(N):\n",
    "        output[n+2] = -a1*output[n+1]-a2*output[n]+input[n]\n",
    "    return(output)\n",
    "  "
   ]
  },
  {
   "cell_type": "code",
   "execution_count": 10,
   "metadata": {},
   "outputs": [
    {
     "data": {
      "application/vnd.bokehjs_exec.v0+json": "",
      "text/html": [
       "\n",
       "<script src=\"http://localhost:54967/autoload.js?bokeh-autoload-element=1038&bokeh-absolute-url=http://localhost:54967&resources=none\" id=\"1038\"></script>"
      ]
     },
     "metadata": {
      "application/vnd.bokehjs_exec.v0+json": {
       "server_id": "b38562b770564adab28078564be0eefe"
      }
     },
     "output_type": "display_data"
    },
    {
     "data": {
      "text/plain": [
       "<__main__.Plot at 0x115c2ed50>"
      ]
     },
     "execution_count": 10,
     "metadata": {},
     "output_type": "execute_result"
    }
   ],
   "source": [
    "u = arma(2,.9998,440)\n",
    "Plot(u)"
   ]
  },
  {
   "cell_type": "code",
   "execution_count": 12,
   "metadata": {},
   "outputs": [
    {
     "data": {
      "application/vnd.bokehjs_exec.v0+json": "",
      "text/html": [
       "\n",
       "<script src=\"http://localhost:55085/autoload.js?bokeh-autoload-element=2369&bokeh-absolute-url=http://localhost:55085&resources=none\" id=\"2369\"></script>"
      ]
     },
     "metadata": {
      "application/vnd.bokehjs_exec.v0+json": {
       "server_id": "1f2bd0d4f0c64c6da576d8c0a07039be"
      }
     },
     "output_type": "display_data"
    },
    {
     "data": {
      "text/plain": [
       "<__main__.Plot at 0x115f5d750>"
      ]
     },
     "execution_count": 12,
     "metadata": {},
     "output_type": "execute_result"
    }
   ],
   "source": [
    "u = arma(2,.9993,440)\n",
    "Plot(u)"
   ]
  },
  {
   "cell_type": "code",
   "execution_count": 11,
   "metadata": {},
   "outputs": [
    {
     "data": {
      "application/vnd.bokehjs_exec.v0+json": "",
      "text/html": [
       "\n",
       "<script src=\"http://localhost:55065/autoload.js?bokeh-autoload-element=1123&bokeh-absolute-url=http://localhost:55065&resources=none\" id=\"1123\"></script>"
      ]
     },
     "metadata": {
      "application/vnd.bokehjs_exec.v0+json": {
       "server_id": "9e2135250add4d0ba50e8488b90626c9"
      }
     },
     "output_type": "display_data"
    },
    {
     "data": {
      "text/plain": [
       "<__main__.Plot at 0x113237890>"
      ]
     },
     "execution_count": 11,
     "metadata": {},
     "output_type": "execute_result"
    }
   ],
   "source": [
    "u = arma(2,.9988,440)\n",
    "Plot(u)"
   ]
  },
  {
   "cell_type": "code",
   "execution_count": 65,
   "metadata": {},
   "outputs": [
    {
     "data": {
      "application/vnd.bokehjs_exec.v0+json": "",
      "text/html": [
       "\n",
       "<script src=\"http://localhost:51858/autoload.js?bokeh-autoload-element=12918&bokeh-absolute-url=http://localhost:51858&resources=none\" id=\"12918\"></script>"
      ]
     },
     "metadata": {
      "application/vnd.bokehjs_exec.v0+json": {
       "server_id": "6332fc710abc4d29b8cf6dd448574fea"
      }
     },
     "output_type": "display_data"
    },
    {
     "data": {
      "text/plain": [
       "<__main__.Plot at 0x1185b4310>"
      ]
     },
     "execution_count": 65,
     "metadata": {},
     "output_type": "execute_result"
    }
   ],
   "source": [
    "Fe,s = read(\"Ircam-cht-piano_wood-interp.wav\")\n",
    "Plot(s,Fe=Fe)\n"
   ]
  },
  {
   "cell_type": "code",
   "execution_count": null,
   "metadata": {},
   "outputs": [],
   "source": [
    "Fe,s = read(\"Ircam-cht-cloche-deform.wav\")\n",
    "Plot(s,Fe=Fe)"
   ]
  },
  {
   "cell_type": "markdown",
   "metadata": {},
   "source": [
    "## Quantification"
   ]
  },
  {
   "cell_type": "code",
   "execution_count": 114,
   "metadata": {},
   "outputs": [
    {
     "data": {
      "application/vnd.bokehjs_exec.v0+json": "",
      "text/html": [
       "\n",
       "<script src=\"http://localhost:63567/autoload.js?bokeh-autoload-element=31189&bokeh-absolute-url=http://localhost:63567&resources=none\" id=\"31189\"></script>"
      ]
     },
     "metadata": {
      "application/vnd.bokehjs_exec.v0+json": {
       "server_id": "5e42e1591465438598a7a6145b353196"
      }
     },
     "output_type": "display_data"
    },
    {
     "data": {
      "text/plain": [
       "<__main__.Plot at 0x1204e3150>"
      ]
     },
     "execution_count": 114,
     "metadata": {},
     "output_type": "execute_result"
    }
   ],
   "source": [
    "# X : Son pur de petite amplitude\n",
    "A = .0003\n",
    "synth = Synth()\n",
    "x = synth.pure(duration=2,A=A)\n",
    "Plot(x,x_display_range=[0,0.04])"
   ]
  },
  {
   "cell_type": "code",
   "execution_count": 109,
   "metadata": {},
   "outputs": [
    {
     "data": {
      "application/vnd.bokehjs_exec.v0+json": "",
      "text/html": [
       "\n",
       "<script src=\"http://localhost:52181/autoload.js?bokeh-autoload-element=28681&bokeh-absolute-url=http://localhost:52181&resources=none\" id=\"28681\"></script>"
      ]
     },
     "metadata": {
      "application/vnd.bokehjs_exec.v0+json": {
       "server_id": "c54ca61afe9c4ed8813923d1a2a370a6"
      }
     },
     "output_type": "display_data"
    },
    {
     "data": {
      "text/plain": [
       "<__main__.Plot at 0x1200b0a90>"
      ]
     },
     "execution_count": 109,
     "metadata": {},
     "output_type": "execute_result"
    }
   ],
   "source": [
    "# Q(X) : Quantifié sur 16 bits\n",
    "qx = np.round(x*(2**15))/2**15\n",
    "Plot(u,x_display_range=[0,0.04])"
   ]
  },
  {
   "cell_type": "code",
   "execution_count": 110,
   "metadata": {},
   "outputs": [
    {
     "data": {
      "application/vnd.bokehjs_exec.v0+json": "",
      "text/html": [
       "\n",
       "<script src=\"http://localhost:52184/autoload.js?bokeh-autoload-element=29218&bokeh-absolute-url=http://localhost:52184&resources=none\" id=\"29218\"></script>"
      ]
     },
     "metadata": {
      "application/vnd.bokehjs_exec.v0+json": {
       "server_id": "c016afff44c545f497818e57d2e6fa8e"
      }
     },
     "output_type": "display_data"
    },
    {
     "data": {
      "text/plain": [
       "<__main__.Plot at 0x1203e9510>"
      ]
     },
     "execution_count": 110,
     "metadata": {},
     "output_type": "execute_result"
    }
   ],
   "source": [
    "# X-Q(X) : L'erreur de quantification\n",
    "Plot(x-qx,x_display_range=[0,0.04])"
   ]
  },
  {
   "cell_type": "code",
   "execution_count": 111,
   "metadata": {},
   "outputs": [
    {
     "data": {
      "application/vnd.bokehjs_exec.v0+json": "",
      "text/html": [
       "\n",
       "<script src=\"http://localhost:52188/autoload.js?bokeh-autoload-element=29422&bokeh-absolute-url=http://localhost:52188&resources=none\" id=\"29422\"></script>"
      ]
     },
     "metadata": {
      "application/vnd.bokehjs_exec.v0+json": {
       "server_id": "9058663695d64c5d9a61968670bd047d"
      }
     },
     "output_type": "display_data"
    },
    {
     "data": {
      "text/plain": [
       "<__main__.Plot at 0x11c5a4ed0>"
      ]
     },
     "execution_count": 111,
     "metadata": {},
     "output_type": "execute_result"
    }
   ],
   "source": [
    "# X+W : On rajoute un bruit blanc\n",
    "xw = s+np.random.normal(0,A/40, len(s))\n",
    "Plot(xw,x_display_range=[0,0.04])"
   ]
  },
  {
   "cell_type": "code",
   "execution_count": 112,
   "metadata": {},
   "outputs": [
    {
     "data": {
      "application/vnd.bokehjs_exec.v0+json": "",
      "text/html": [
       "\n",
       "<script src=\"http://localhost:52191/autoload.js?bokeh-autoload-element=29514&bokeh-absolute-url=http://localhost:52191&resources=none\" id=\"29514\"></script>"
      ]
     },
     "metadata": {
      "application/vnd.bokehjs_exec.v0+json": {
       "server_id": "22215edfa4b741ecb6497975ea34c225"
      }
     },
     "output_type": "display_data"
    },
    {
     "data": {
      "text/plain": [
       "<__main__.Plot at 0x1204d7fd0>"
      ]
     },
     "execution_count": 112,
     "metadata": {},
     "output_type": "execute_result"
    }
   ],
   "source": [
    "# Q(X+W) Quantifié sur 16 bits\n",
    "qxw = np.round(xw*(2**15))/2**15\n",
    "Plot(qxw,x_display_range=[0,0.04])"
   ]
  },
  {
   "cell_type": "code",
   "execution_count": 113,
   "metadata": {},
   "outputs": [
    {
     "data": {
      "application/vnd.bokehjs_exec.v0+json": "",
      "text/html": [
       "\n",
       "<script src=\"http://localhost:52197/autoload.js?bokeh-autoload-element=29965&bokeh-absolute-url=http://localhost:52197&resources=none\" id=\"29965\"></script>"
      ]
     },
     "metadata": {
      "application/vnd.bokehjs_exec.v0+json": {
       "server_id": "50028a5ddac94de58ebe8dbd0da61dfc"
      }
     },
     "output_type": "display_data"
    },
    {
     "data": {
      "text/plain": [
       "<__main__.Plot at 0x11f02f1d0>"
      ]
     },
     "execution_count": 113,
     "metadata": {},
     "output_type": "execute_result"
    }
   ],
   "source": [
    "# X+W - Q(X+W)\n",
    "Plot(xw-qxw,x_display_range=[0,0.04])"
   ]
  },
  {
   "cell_type": "code",
   "execution_count": null,
   "metadata": {},
   "outputs": [],
   "source": []
  }
 ],
 "metadata": {
  "kernelspec": {
   "display_name": "Python 3",
   "language": "python",
   "name": "python3"
  },
  "language_info": {
   "codemirror_mode": {
    "name": "ipython",
    "version": 3
   },
   "file_extension": ".py",
   "mimetype": "text/x-python",
   "name": "python",
   "nbconvert_exporter": "python",
   "pygments_lexer": "ipython3",
   "version": "3.7.4"
  }
 },
 "nbformat": 4,
 "nbformat_minor": 4
}
